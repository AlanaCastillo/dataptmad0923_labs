{
 "cells": [
  {
   "cell_type": "markdown",
   "metadata": {},
   "source": [
    "# Challenge 1\n",
    "\n",
    "In this challenge you will be working on **Pokemon**. You will answer a series of questions in order to practice dataframe calculation, aggregation, and transformation.\n",
    "\n",
    "![Pokemon](../images/pokemon.jpg)\n",
    "\n",
    "Follow the instructions below and enter your code.\n",
    "\n",
    "#### Import all required libraries."
   ]
  },
  {
   "cell_type": "code",
   "execution_count": 2,
   "metadata": {},
   "outputs": [],
   "source": [
    "import pandas as pd\n",
    "import numpy as np"
   ]
  },
  {
   "cell_type": "code",
   "execution_count": 3,
   "metadata": {},
   "outputs": [],
   "source": [
    "with open('../data/Pokemon.csv') as pokemon:\n",
    "    pokemon = pokemon.readlines()\n"
   ]
  },
  {
   "cell_type": "markdown",
   "metadata": {},
   "source": [
    "Import data set.\n",
    "\n",
    "Import data set `Pokemon` from Ironhack's database. Read the data into a dataframe called `pokemon`.\n",
    "\n",
    "*Data set attributed to [Alberto Barradas](https://www.kaggle.com/abcsds/pokemon/)*"
   ]
  },
  {
   "cell_type": "code",
   "execution_count": 4,
   "metadata": {},
   "outputs": [
    {
     "data": {
      "text/html": [
       "<div>\n",
       "<style scoped>\n",
       "    .dataframe tbody tr th:only-of-type {\n",
       "        vertical-align: middle;\n",
       "    }\n",
       "\n",
       "    .dataframe tbody tr th {\n",
       "        vertical-align: top;\n",
       "    }\n",
       "\n",
       "    .dataframe thead th {\n",
       "        text-align: right;\n",
       "    }\n",
       "</style>\n",
       "<table border=\"1\" class=\"dataframe\">\n",
       "  <thead>\n",
       "    <tr style=\"text-align: right;\">\n",
       "      <th></th>\n",
       "      <th>#</th>\n",
       "      <th>Name</th>\n",
       "      <th>Type 1</th>\n",
       "      <th>Type 2</th>\n",
       "      <th>Total</th>\n",
       "      <th>HP</th>\n",
       "      <th>Attack</th>\n",
       "      <th>Defense</th>\n",
       "      <th>Sp. Atk</th>\n",
       "      <th>Sp. Def</th>\n",
       "      <th>Speed</th>\n",
       "      <th>Generation</th>\n",
       "      <th>Legendary</th>\n",
       "    </tr>\n",
       "  </thead>\n",
       "  <tbody>\n",
       "    <tr>\n",
       "      <th>0</th>\n",
       "      <td>1</td>\n",
       "      <td>Bulbasaur</td>\n",
       "      <td>Grass</td>\n",
       "      <td>Poison</td>\n",
       "      <td>318</td>\n",
       "      <td>45</td>\n",
       "      <td>49</td>\n",
       "      <td>49</td>\n",
       "      <td>65</td>\n",
       "      <td>65</td>\n",
       "      <td>45</td>\n",
       "      <td>1</td>\n",
       "      <td>False</td>\n",
       "    </tr>\n",
       "    <tr>\n",
       "      <th>1</th>\n",
       "      <td>2</td>\n",
       "      <td>Ivysaur</td>\n",
       "      <td>Grass</td>\n",
       "      <td>Poison</td>\n",
       "      <td>405</td>\n",
       "      <td>60</td>\n",
       "      <td>62</td>\n",
       "      <td>63</td>\n",
       "      <td>80</td>\n",
       "      <td>80</td>\n",
       "      <td>60</td>\n",
       "      <td>1</td>\n",
       "      <td>False</td>\n",
       "    </tr>\n",
       "    <tr>\n",
       "      <th>2</th>\n",
       "      <td>3</td>\n",
       "      <td>Venusaur</td>\n",
       "      <td>Grass</td>\n",
       "      <td>Poison</td>\n",
       "      <td>525</td>\n",
       "      <td>80</td>\n",
       "      <td>82</td>\n",
       "      <td>83</td>\n",
       "      <td>100</td>\n",
       "      <td>100</td>\n",
       "      <td>80</td>\n",
       "      <td>1</td>\n",
       "      <td>False</td>\n",
       "    </tr>\n",
       "    <tr>\n",
       "      <th>3</th>\n",
       "      <td>3</td>\n",
       "      <td>VenusaurMega Venusaur</td>\n",
       "      <td>Grass</td>\n",
       "      <td>Poison</td>\n",
       "      <td>625</td>\n",
       "      <td>80</td>\n",
       "      <td>100</td>\n",
       "      <td>123</td>\n",
       "      <td>122</td>\n",
       "      <td>120</td>\n",
       "      <td>80</td>\n",
       "      <td>1</td>\n",
       "      <td>False</td>\n",
       "    </tr>\n",
       "    <tr>\n",
       "      <th>4</th>\n",
       "      <td>4</td>\n",
       "      <td>Charmander</td>\n",
       "      <td>Fire</td>\n",
       "      <td>NaN</td>\n",
       "      <td>309</td>\n",
       "      <td>39</td>\n",
       "      <td>52</td>\n",
       "      <td>43</td>\n",
       "      <td>60</td>\n",
       "      <td>50</td>\n",
       "      <td>65</td>\n",
       "      <td>1</td>\n",
       "      <td>False</td>\n",
       "    </tr>\n",
       "  </tbody>\n",
       "</table>\n",
       "</div>"
      ],
      "text/plain": [
       "   #                   Name Type 1  Type 2  Total  HP  Attack  Defense  \\\n",
       "0  1              Bulbasaur  Grass  Poison    318  45      49       49   \n",
       "1  2                Ivysaur  Grass  Poison    405  60      62       63   \n",
       "2  3               Venusaur  Grass  Poison    525  80      82       83   \n",
       "3  3  VenusaurMega Venusaur  Grass  Poison    625  80     100      123   \n",
       "4  4             Charmander   Fire     NaN    309  39      52       43   \n",
       "\n",
       "   Sp. Atk  Sp. Def  Speed  Generation  Legendary  \n",
       "0       65       65     45           1      False  \n",
       "1       80       80     60           1      False  \n",
       "2      100      100     80           1      False  \n",
       "3      122      120     80           1      False  \n",
       "4       60       50     65           1      False  "
      ]
     },
     "execution_count": 4,
     "metadata": {},
     "output_type": "execute_result"
    }
   ],
   "source": [
    "pokemon_df= pd.read_csv('../data/Pokemon.csv')\n",
    "\n",
    "pokemon_df.head()\n"
   ]
  },
  {
   "cell_type": "markdown",
   "metadata": {},
   "source": [
    "#### Print first 10 rows of `pokemon`."
   ]
  },
  {
   "cell_type": "code",
   "execution_count": 5,
   "metadata": {},
   "outputs": [
    {
     "data": {
      "text/html": [
       "<div>\n",
       "<style scoped>\n",
       "    .dataframe tbody tr th:only-of-type {\n",
       "        vertical-align: middle;\n",
       "    }\n",
       "\n",
       "    .dataframe tbody tr th {\n",
       "        vertical-align: top;\n",
       "    }\n",
       "\n",
       "    .dataframe thead th {\n",
       "        text-align: right;\n",
       "    }\n",
       "</style>\n",
       "<table border=\"1\" class=\"dataframe\">\n",
       "  <thead>\n",
       "    <tr style=\"text-align: right;\">\n",
       "      <th></th>\n",
       "      <th>#</th>\n",
       "      <th>Name</th>\n",
       "      <th>Type 1</th>\n",
       "      <th>Type 2</th>\n",
       "      <th>Total</th>\n",
       "      <th>HP</th>\n",
       "      <th>Attack</th>\n",
       "      <th>Defense</th>\n",
       "      <th>Sp. Atk</th>\n",
       "      <th>Sp. Def</th>\n",
       "      <th>Speed</th>\n",
       "      <th>Generation</th>\n",
       "      <th>Legendary</th>\n",
       "    </tr>\n",
       "  </thead>\n",
       "  <tbody>\n",
       "    <tr>\n",
       "      <th>0</th>\n",
       "      <td>1</td>\n",
       "      <td>Bulbasaur</td>\n",
       "      <td>Grass</td>\n",
       "      <td>Poison</td>\n",
       "      <td>318</td>\n",
       "      <td>45</td>\n",
       "      <td>49</td>\n",
       "      <td>49</td>\n",
       "      <td>65</td>\n",
       "      <td>65</td>\n",
       "      <td>45</td>\n",
       "      <td>1</td>\n",
       "      <td>False</td>\n",
       "    </tr>\n",
       "    <tr>\n",
       "      <th>1</th>\n",
       "      <td>2</td>\n",
       "      <td>Ivysaur</td>\n",
       "      <td>Grass</td>\n",
       "      <td>Poison</td>\n",
       "      <td>405</td>\n",
       "      <td>60</td>\n",
       "      <td>62</td>\n",
       "      <td>63</td>\n",
       "      <td>80</td>\n",
       "      <td>80</td>\n",
       "      <td>60</td>\n",
       "      <td>1</td>\n",
       "      <td>False</td>\n",
       "    </tr>\n",
       "    <tr>\n",
       "      <th>2</th>\n",
       "      <td>3</td>\n",
       "      <td>Venusaur</td>\n",
       "      <td>Grass</td>\n",
       "      <td>Poison</td>\n",
       "      <td>525</td>\n",
       "      <td>80</td>\n",
       "      <td>82</td>\n",
       "      <td>83</td>\n",
       "      <td>100</td>\n",
       "      <td>100</td>\n",
       "      <td>80</td>\n",
       "      <td>1</td>\n",
       "      <td>False</td>\n",
       "    </tr>\n",
       "    <tr>\n",
       "      <th>3</th>\n",
       "      <td>3</td>\n",
       "      <td>VenusaurMega Venusaur</td>\n",
       "      <td>Grass</td>\n",
       "      <td>Poison</td>\n",
       "      <td>625</td>\n",
       "      <td>80</td>\n",
       "      <td>100</td>\n",
       "      <td>123</td>\n",
       "      <td>122</td>\n",
       "      <td>120</td>\n",
       "      <td>80</td>\n",
       "      <td>1</td>\n",
       "      <td>False</td>\n",
       "    </tr>\n",
       "    <tr>\n",
       "      <th>4</th>\n",
       "      <td>4</td>\n",
       "      <td>Charmander</td>\n",
       "      <td>Fire</td>\n",
       "      <td>NaN</td>\n",
       "      <td>309</td>\n",
       "      <td>39</td>\n",
       "      <td>52</td>\n",
       "      <td>43</td>\n",
       "      <td>60</td>\n",
       "      <td>50</td>\n",
       "      <td>65</td>\n",
       "      <td>1</td>\n",
       "      <td>False</td>\n",
       "    </tr>\n",
       "    <tr>\n",
       "      <th>5</th>\n",
       "      <td>5</td>\n",
       "      <td>Charmeleon</td>\n",
       "      <td>Fire</td>\n",
       "      <td>NaN</td>\n",
       "      <td>405</td>\n",
       "      <td>58</td>\n",
       "      <td>64</td>\n",
       "      <td>58</td>\n",
       "      <td>80</td>\n",
       "      <td>65</td>\n",
       "      <td>80</td>\n",
       "      <td>1</td>\n",
       "      <td>False</td>\n",
       "    </tr>\n",
       "    <tr>\n",
       "      <th>6</th>\n",
       "      <td>6</td>\n",
       "      <td>Charizard</td>\n",
       "      <td>Fire</td>\n",
       "      <td>Flying</td>\n",
       "      <td>534</td>\n",
       "      <td>78</td>\n",
       "      <td>84</td>\n",
       "      <td>78</td>\n",
       "      <td>109</td>\n",
       "      <td>85</td>\n",
       "      <td>100</td>\n",
       "      <td>1</td>\n",
       "      <td>False</td>\n",
       "    </tr>\n",
       "    <tr>\n",
       "      <th>7</th>\n",
       "      <td>6</td>\n",
       "      <td>CharizardMega Charizard X</td>\n",
       "      <td>Fire</td>\n",
       "      <td>Dragon</td>\n",
       "      <td>634</td>\n",
       "      <td>78</td>\n",
       "      <td>130</td>\n",
       "      <td>111</td>\n",
       "      <td>130</td>\n",
       "      <td>85</td>\n",
       "      <td>100</td>\n",
       "      <td>1</td>\n",
       "      <td>False</td>\n",
       "    </tr>\n",
       "    <tr>\n",
       "      <th>8</th>\n",
       "      <td>6</td>\n",
       "      <td>CharizardMega Charizard Y</td>\n",
       "      <td>Fire</td>\n",
       "      <td>Flying</td>\n",
       "      <td>634</td>\n",
       "      <td>78</td>\n",
       "      <td>104</td>\n",
       "      <td>78</td>\n",
       "      <td>159</td>\n",
       "      <td>115</td>\n",
       "      <td>100</td>\n",
       "      <td>1</td>\n",
       "      <td>False</td>\n",
       "    </tr>\n",
       "    <tr>\n",
       "      <th>9</th>\n",
       "      <td>7</td>\n",
       "      <td>Squirtle</td>\n",
       "      <td>Water</td>\n",
       "      <td>NaN</td>\n",
       "      <td>314</td>\n",
       "      <td>44</td>\n",
       "      <td>48</td>\n",
       "      <td>65</td>\n",
       "      <td>50</td>\n",
       "      <td>64</td>\n",
       "      <td>43</td>\n",
       "      <td>1</td>\n",
       "      <td>False</td>\n",
       "    </tr>\n",
       "  </tbody>\n",
       "</table>\n",
       "</div>"
      ],
      "text/plain": [
       "   #                       Name Type 1  Type 2  Total  HP  Attack  Defense  \\\n",
       "0  1                  Bulbasaur  Grass  Poison    318  45      49       49   \n",
       "1  2                    Ivysaur  Grass  Poison    405  60      62       63   \n",
       "2  3                   Venusaur  Grass  Poison    525  80      82       83   \n",
       "3  3      VenusaurMega Venusaur  Grass  Poison    625  80     100      123   \n",
       "4  4                 Charmander   Fire     NaN    309  39      52       43   \n",
       "5  5                 Charmeleon   Fire     NaN    405  58      64       58   \n",
       "6  6                  Charizard   Fire  Flying    534  78      84       78   \n",
       "7  6  CharizardMega Charizard X   Fire  Dragon    634  78     130      111   \n",
       "8  6  CharizardMega Charizard Y   Fire  Flying    634  78     104       78   \n",
       "9  7                   Squirtle  Water     NaN    314  44      48       65   \n",
       "\n",
       "   Sp. Atk  Sp. Def  Speed  Generation  Legendary  \n",
       "0       65       65     45           1      False  \n",
       "1       80       80     60           1      False  \n",
       "2      100      100     80           1      False  \n",
       "3      122      120     80           1      False  \n",
       "4       60       50     65           1      False  \n",
       "5       80       65     80           1      False  \n",
       "6      109       85    100           1      False  \n",
       "7      130       85    100           1      False  \n",
       "8      159      115    100           1      False  \n",
       "9       50       64     43           1      False  "
      ]
     },
     "execution_count": 5,
     "metadata": {},
     "output_type": "execute_result"
    }
   ],
   "source": [
    "pokemon_df.head(10)"
   ]
  },
  {
   "cell_type": "markdown",
   "metadata": {},
   "source": [
    "When you look at a data set, you often wonder what each column means. Some open-source data sets provide descriptions of the data set. In many cases, data descriptions are extremely useful for data analysts to perform work efficiently and successfully.\n",
    "\n",
    "For the `Pokemon.csv` data set, fortunately, the owner provided descriptions which you can see [here](https://www.kaggle.com/abcsds/pokemon/home). For your convenience, we are including the descriptions below. Read the descriptions and understand what each column means. This knowledge is helpful in your work with the data.\n",
    "\n",
    "| Column | Description |\n",
    "| --- | --- |\n",
    "| # | ID for each pokemon |\n",
    "| Name | Name of each pokemon |\n",
    "| Type 1 | Each pokemon has a type, this determines weakness/resistance to attacks |\n",
    "| Type 2 | Some pokemon are dual type and have 2 |\n",
    "| Total | A general guide to how strong a pokemon is |\n",
    "| HP | Hit points, or health, defines how much damage a pokemon can withstand before fainting |\n",
    "| Attack | The base modifier for normal attacks (eg. Scratch, Punch) |\n",
    "| Defense | The base damage resistance against normal attacks |\n",
    "| SP Atk | Special attack, the base modifier for special attacks (e.g. fire blast, bubble beam) |\n",
    "| SP Def | The base damage resistance against special attacks |\n",
    "| Speed | Determines which pokemon attacks first each round |\n",
    "| Generation | Number of generation |\n",
    "| Legendary | True if Legendary Pokemon False if not |"
   ]
  },
  {
   "cell_type": "markdown",
   "metadata": {},
   "source": [
    "#### Obtain the distinct values across `Type 1` and `Type 2`.\n",
    "\n",
    "Exctract all the values in `Type 1` and `Type 2`. Then create an array containing the distinct values across both fields."
   ]
  },
  {
   "cell_type": "code",
   "execution_count": 6,
   "metadata": {},
   "outputs": [
    {
     "data": {
      "text/plain": [
       "array(['Grass', 'Fire', 'Water', 'Bug', 'Normal', 'Poison', 'Electric',\n",
       "       'Ground', 'Fairy', 'Fighting', 'Psychic', 'Rock', 'Ghost', 'Ice',\n",
       "       'Dragon', 'Dark', 'Steel', 'Flying'], dtype=object)"
      ]
     },
     "execution_count": 6,
     "metadata": {},
     "output_type": "execute_result"
    }
   ],
   "source": [
    "all_values = pd.concat([pokemon_df['Type 1'], pokemon_df['Type 2']]).dropna()\n",
    "unique_values = all_values.unique()\n",
    "unique_values"
   ]
  },
  {
   "cell_type": "markdown",
   "metadata": {},
   "source": [
    "#### Cleanup `Name` that contain \"Mega\".\n",
    "\n",
    "If you have checked out the pokemon names carefully enough, you should have found there are junk texts in the pokemon names which contain \"Mega\". We want to clean up the pokemon names. For instance, \"VenusaurMega Venusaur\" should be \"Mega Venusaur\", and \"CharizardMega Charizard X\" should be \"Mega Charizard X\"."
   ]
  },
  {
   "cell_type": "code",
   "execution_count": 7,
   "metadata": {},
   "outputs": [
    {
     "name": "stdout",
     "output_type": "stream",
     "text": [
      "VenusaurVenusaur\n",
      "CharizardCharizard X\n"
     ]
    }
   ],
   "source": [
    "# your code here\n",
    "def clean_pokemon_names(name):\n",
    "    return name.replace('Mega ', '').replace('Mega', '')\n",
    "\n",
    "name1 = 'VenusaurMega Venusaur'\n",
    "name2 = 'CharizardMega Charizard X'\n",
    "\n",
    "clean_name1 = clean_pokemon_names(name1)\n",
    "clean_name2 = clean_pokemon_names(name2)\n",
    "\n",
    "print(clean_name1)\n",
    "print(clean_name2)\n"
   ]
  },
  {
   "cell_type": "markdown",
   "metadata": {},
   "source": [
    "#### Create a new column called `A/D Ratio` whose value equals to `Attack` devided by `Defense`.\n",
    "\n",
    "For instance, if a pokemon has the Attack score 49 and Defense score 49, the corresponding `A/D Ratio` is 49/49=1."
   ]
  },
  {
   "cell_type": "code",
   "execution_count": 18,
   "metadata": {},
   "outputs": [
    {
     "data": {
      "text/html": [
       "<div>\n",
       "<style scoped>\n",
       "    .dataframe tbody tr th:only-of-type {\n",
       "        vertical-align: middle;\n",
       "    }\n",
       "\n",
       "    .dataframe tbody tr th {\n",
       "        vertical-align: top;\n",
       "    }\n",
       "\n",
       "    .dataframe thead th {\n",
       "        text-align: right;\n",
       "    }\n",
       "</style>\n",
       "<table border=\"1\" class=\"dataframe\">\n",
       "  <thead>\n",
       "    <tr style=\"text-align: right;\">\n",
       "      <th></th>\n",
       "      <th>#</th>\n",
       "      <th>Name</th>\n",
       "      <th>Type 1</th>\n",
       "      <th>Type 2</th>\n",
       "      <th>Total</th>\n",
       "      <th>HP</th>\n",
       "      <th>Attack</th>\n",
       "      <th>Defense</th>\n",
       "      <th>Sp. Atk</th>\n",
       "      <th>Sp. Def</th>\n",
       "      <th>Speed</th>\n",
       "      <th>Generation</th>\n",
       "      <th>Legendary</th>\n",
       "      <th>A/D Ratio</th>\n",
       "    </tr>\n",
       "  </thead>\n",
       "  <tbody>\n",
       "    <tr>\n",
       "      <th>0</th>\n",
       "      <td>1</td>\n",
       "      <td>Bulbasaur</td>\n",
       "      <td>Grass</td>\n",
       "      <td>Poison</td>\n",
       "      <td>318</td>\n",
       "      <td>45</td>\n",
       "      <td>49</td>\n",
       "      <td>49</td>\n",
       "      <td>65</td>\n",
       "      <td>65</td>\n",
       "      <td>45</td>\n",
       "      <td>1</td>\n",
       "      <td>False</td>\n",
       "      <td>1.000000</td>\n",
       "    </tr>\n",
       "    <tr>\n",
       "      <th>1</th>\n",
       "      <td>2</td>\n",
       "      <td>Ivysaur</td>\n",
       "      <td>Grass</td>\n",
       "      <td>Poison</td>\n",
       "      <td>405</td>\n",
       "      <td>60</td>\n",
       "      <td>62</td>\n",
       "      <td>63</td>\n",
       "      <td>80</td>\n",
       "      <td>80</td>\n",
       "      <td>60</td>\n",
       "      <td>1</td>\n",
       "      <td>False</td>\n",
       "      <td>0.984127</td>\n",
       "    </tr>\n",
       "    <tr>\n",
       "      <th>2</th>\n",
       "      <td>3</td>\n",
       "      <td>Venusaur</td>\n",
       "      <td>Grass</td>\n",
       "      <td>Poison</td>\n",
       "      <td>525</td>\n",
       "      <td>80</td>\n",
       "      <td>82</td>\n",
       "      <td>83</td>\n",
       "      <td>100</td>\n",
       "      <td>100</td>\n",
       "      <td>80</td>\n",
       "      <td>1</td>\n",
       "      <td>False</td>\n",
       "      <td>0.987952</td>\n",
       "    </tr>\n",
       "    <tr>\n",
       "      <th>3</th>\n",
       "      <td>3</td>\n",
       "      <td>VenusaurMega Venusaur</td>\n",
       "      <td>Grass</td>\n",
       "      <td>Poison</td>\n",
       "      <td>625</td>\n",
       "      <td>80</td>\n",
       "      <td>100</td>\n",
       "      <td>123</td>\n",
       "      <td>122</td>\n",
       "      <td>120</td>\n",
       "      <td>80</td>\n",
       "      <td>1</td>\n",
       "      <td>False</td>\n",
       "      <td>0.813008</td>\n",
       "    </tr>\n",
       "    <tr>\n",
       "      <th>4</th>\n",
       "      <td>4</td>\n",
       "      <td>Charmander</td>\n",
       "      <td>Fire</td>\n",
       "      <td>NaN</td>\n",
       "      <td>309</td>\n",
       "      <td>39</td>\n",
       "      <td>52</td>\n",
       "      <td>43</td>\n",
       "      <td>60</td>\n",
       "      <td>50</td>\n",
       "      <td>65</td>\n",
       "      <td>1</td>\n",
       "      <td>False</td>\n",
       "      <td>1.209302</td>\n",
       "    </tr>\n",
       "    <tr>\n",
       "      <th>5</th>\n",
       "      <td>5</td>\n",
       "      <td>Charmeleon</td>\n",
       "      <td>Fire</td>\n",
       "      <td>NaN</td>\n",
       "      <td>405</td>\n",
       "      <td>58</td>\n",
       "      <td>64</td>\n",
       "      <td>58</td>\n",
       "      <td>80</td>\n",
       "      <td>65</td>\n",
       "      <td>80</td>\n",
       "      <td>1</td>\n",
       "      <td>False</td>\n",
       "      <td>1.103448</td>\n",
       "    </tr>\n",
       "    <tr>\n",
       "      <th>6</th>\n",
       "      <td>6</td>\n",
       "      <td>Charizard</td>\n",
       "      <td>Fire</td>\n",
       "      <td>Flying</td>\n",
       "      <td>534</td>\n",
       "      <td>78</td>\n",
       "      <td>84</td>\n",
       "      <td>78</td>\n",
       "      <td>109</td>\n",
       "      <td>85</td>\n",
       "      <td>100</td>\n",
       "      <td>1</td>\n",
       "      <td>False</td>\n",
       "      <td>1.076923</td>\n",
       "    </tr>\n",
       "    <tr>\n",
       "      <th>7</th>\n",
       "      <td>6</td>\n",
       "      <td>CharizardMega Charizard X</td>\n",
       "      <td>Fire</td>\n",
       "      <td>Dragon</td>\n",
       "      <td>634</td>\n",
       "      <td>78</td>\n",
       "      <td>130</td>\n",
       "      <td>111</td>\n",
       "      <td>130</td>\n",
       "      <td>85</td>\n",
       "      <td>100</td>\n",
       "      <td>1</td>\n",
       "      <td>False</td>\n",
       "      <td>1.171171</td>\n",
       "    </tr>\n",
       "    <tr>\n",
       "      <th>8</th>\n",
       "      <td>6</td>\n",
       "      <td>CharizardMega Charizard Y</td>\n",
       "      <td>Fire</td>\n",
       "      <td>Flying</td>\n",
       "      <td>634</td>\n",
       "      <td>78</td>\n",
       "      <td>104</td>\n",
       "      <td>78</td>\n",
       "      <td>159</td>\n",
       "      <td>115</td>\n",
       "      <td>100</td>\n",
       "      <td>1</td>\n",
       "      <td>False</td>\n",
       "      <td>1.333333</td>\n",
       "    </tr>\n",
       "    <tr>\n",
       "      <th>9</th>\n",
       "      <td>7</td>\n",
       "      <td>Squirtle</td>\n",
       "      <td>Water</td>\n",
       "      <td>NaN</td>\n",
       "      <td>314</td>\n",
       "      <td>44</td>\n",
       "      <td>48</td>\n",
       "      <td>65</td>\n",
       "      <td>50</td>\n",
       "      <td>64</td>\n",
       "      <td>43</td>\n",
       "      <td>1</td>\n",
       "      <td>False</td>\n",
       "      <td>0.738462</td>\n",
       "    </tr>\n",
       "  </tbody>\n",
       "</table>\n",
       "</div>"
      ],
      "text/plain": [
       "   #                       Name Type 1  Type 2  Total  HP  Attack  Defense  \\\n",
       "0  1                  Bulbasaur  Grass  Poison    318  45      49       49   \n",
       "1  2                    Ivysaur  Grass  Poison    405  60      62       63   \n",
       "2  3                   Venusaur  Grass  Poison    525  80      82       83   \n",
       "3  3      VenusaurMega Venusaur  Grass  Poison    625  80     100      123   \n",
       "4  4                 Charmander   Fire     NaN    309  39      52       43   \n",
       "5  5                 Charmeleon   Fire     NaN    405  58      64       58   \n",
       "6  6                  Charizard   Fire  Flying    534  78      84       78   \n",
       "7  6  CharizardMega Charizard X   Fire  Dragon    634  78     130      111   \n",
       "8  6  CharizardMega Charizard Y   Fire  Flying    634  78     104       78   \n",
       "9  7                   Squirtle  Water     NaN    314  44      48       65   \n",
       "\n",
       "   Sp. Atk  Sp. Def  Speed  Generation  Legendary  A/D Ratio  \n",
       "0       65       65     45           1      False   1.000000  \n",
       "1       80       80     60           1      False   0.984127  \n",
       "2      100      100     80           1      False   0.987952  \n",
       "3      122      120     80           1      False   0.813008  \n",
       "4       60       50     65           1      False   1.209302  \n",
       "5       80       65     80           1      False   1.103448  \n",
       "6      109       85    100           1      False   1.076923  \n",
       "7      130       85    100           1      False   1.171171  \n",
       "8      159      115    100           1      False   1.333333  \n",
       "9       50       64     43           1      False   0.738462  "
      ]
     },
     "execution_count": 18,
     "metadata": {},
     "output_type": "execute_result"
    }
   ],
   "source": [
    "pokemon_df['A/D Ratio'] = pokemon_df['Attack'] / pokemon_df['Defense']\n",
    "pokemon_df.head(10)"
   ]
  },
  {
   "cell_type": "markdown",
   "metadata": {},
   "source": [
    "#### Identify the pokemon with the highest `A/D Ratio`."
   ]
  },
  {
   "cell_type": "code",
   "execution_count": 24,
   "metadata": {},
   "outputs": [
    {
     "data": {
      "text/plain": [
       "'DeoxysAttack Forme'"
      ]
     },
     "execution_count": 24,
     "metadata": {},
     "output_type": "execute_result"
    }
   ],
   "source": [
    "highest = pokemon_df['A/D Ratio'].idxmax()\n",
    "pokemon_df.loc[max]['Name']"
   ]
  },
  {
   "cell_type": "code",
   "execution_count": 23,
   "metadata": {},
   "outputs": [
    {
     "name": "stdout",
     "output_type": "stream",
     "text": [
      "9.0\n"
     ]
    }
   ],
   "source": [
    "highest_ad_ratio_pokemon = pokemon_df['A/D Ratio'].max()\n",
    "print (highest_ad_ratio_pokemon)"
   ]
  },
  {
   "cell_type": "markdown",
   "metadata": {},
   "source": [
    "#### Identify the pokemon with the lowest A/D Ratio."
   ]
  },
  {
   "cell_type": "code",
   "execution_count": 28,
   "metadata": {},
   "outputs": [
    {
     "data": {
      "text/plain": [
       "'Shuckle'"
      ]
     },
     "execution_count": 28,
     "metadata": {},
     "output_type": "execute_result"
    }
   ],
   "source": [
    "lowest = pokemon_df['A/D Ratio'].idxmin()\n",
    "pokemon_df.loc[min]['Name']"
   ]
  },
  {
   "cell_type": "code",
   "execution_count": 116,
   "metadata": {},
   "outputs": [
    {
     "name": "stdout",
     "output_type": "stream",
     "text": [
      "0.043478260869565216\n"
     ]
    }
   ],
   "source": [
    "lowest_ad_ratio_pokemon = pokemon_df['A/D Ratio'].min()\n",
    "print (lowest_ad_ratio_pokemon)"
   ]
  },
  {
   "cell_type": "markdown",
   "metadata": {},
   "source": [
    "#### Create a new column called `Combo Type` whose value combines `Type 1` and `Type 2`.\n",
    "\n",
    "Rules:\n",
    "\n",
    "* If both `Type 1` and `Type 2` have valid values, the `Combo Type` value should contain both values in the form of `<Type 1> <Type 2>`. For example, if `Type 1` value is `Grass` and `Type 2` value is `Poison`, `Combo Type` will be `Grass-Poison`.\n",
    "\n",
    "* If `Type 1` has valid value but `Type 2` is not, `Combo Type` will be the same as `Type 1`. For example, if `Type 1` is `Fire` whereas `Type 2` is `NaN`, `Combo Type` will be `Fire`."
   ]
  },
  {
   "cell_type": "code",
   "execution_count": 30,
   "metadata": {},
   "outputs": [
    {
     "data": {
      "text/plain": [
       "0       Grass-Poison\n",
       "1       Grass-Poison\n",
       "2       Grass-Poison\n",
       "3       Grass-Poison\n",
       "4               Fire\n",
       "           ...      \n",
       "795       Rock-Fairy\n",
       "796       Rock-Fairy\n",
       "797    Psychic-Ghost\n",
       "798     Psychic-Dark\n",
       "799       Fire-Water\n",
       "Name: Combo Type, Length: 800, dtype: object"
      ]
     },
     "execution_count": 30,
     "metadata": {},
     "output_type": "execute_result"
    }
   ],
   "source": [
    "pokemon_df['Combo Type'] =pokemon_df['Type 1'] + '-' + pokemon_df['Type 2']\n",
    "\n",
    "pokemon_df['Combo Type'].fillna(pokemon_df['Type 1'], inplace=True)\n",
    "pokemon_df['Combo Type']"
   ]
  },
  {
   "cell_type": "markdown",
   "metadata": {},
   "source": [
    "#### Identify the pokemon whose `A/D Ratio` are among the top 5."
   ]
  },
  {
   "cell_type": "code",
   "execution_count": 33,
   "metadata": {},
   "outputs": [
    {
     "name": "stdout",
     "output_type": "stream",
     "text": [
      "       #                   Name   Type 1  Type 2  Total  HP  Attack  Defense  \\\n",
      "429  386     DeoxysAttack Forme  Psychic     NaN    600  50     180       20   \n",
      "347  318               Carvanha    Water    Dark    305  45      90       20   \n",
      "19    15  BeedrillMega Beedrill      Bug  Poison    495  65     150       40   \n",
      "453  408               Cranidos     Rock     NaN    350  67     125       40   \n",
      "348  319               Sharpedo    Water    Dark    460  70     120       40   \n",
      "\n",
      "     Sp. Atk  Sp. Def  Speed  Generation  Legendary  A/D Ratio  Combo Type  \n",
      "429      180       20    150           3       True      9.000     Psychic  \n",
      "347       65       20     65           3      False      4.500  Water-Dark  \n",
      "19        15       80    145           1      False      3.750  Bug-Poison  \n",
      "453       30       30     58           4      False      3.125        Rock  \n",
      "348       95       40     95           3      False      3.000  Water-Dark  \n"
     ]
    }
   ],
   "source": [
    "top_5_ad_ratio_pokemon = pokemon_df.sort_values(by='A/D Ratio', ascending=False).head(5)\n",
    "print(top_5_ad_ratio_pokemon)"
   ]
  },
  {
   "cell_type": "markdown",
   "metadata": {},
   "source": [
    "#### For the 5 pokemon printed above, aggregate `Combo Type` and use a list to store the unique values.\n",
    "\n",
    "Your end product is a list containing the distinct `Combo Type` values of the 5 pokemon with the highest `A/D Ratio`."
   ]
  },
  {
   "cell_type": "code",
   "execution_count": 34,
   "metadata": {},
   "outputs": [
    {
     "data": {
      "text/plain": [
       "array(['Psychic', 'Water-Dark', 'Bug-Poison', 'Rock'], dtype=object)"
      ]
     },
     "execution_count": 34,
     "metadata": {},
     "output_type": "execute_result"
    }
   ],
   "source": [
    "combo_type = top_5_ad_ratio_pokemon['Combo Type'].unique()\n",
    "combo_type"
   ]
  },
  {
   "cell_type": "markdown",
   "metadata": {},
   "source": [
    "#### For each of the `Combo Type` values obtained from the previous question, calculate the mean scores of all numeric fields across all pokemon.\n",
    "\n",
    "Your output should look like below:\n",
    "\n",
    "![Aggregate](../images/aggregated-mean.png)"
   ]
  },
  {
   "cell_type": "code",
   "execution_count": 38,
   "metadata": {},
   "outputs": [
    {
     "ename": "TypeError",
     "evalue": "Could not convert Grass-PoisonGrass-PoisonGrass-PoisonGrass-PoisonFireFireFire-FlyingFire-DragonFire-FlyingWaterWaterWaterWaterBugBugBug-FlyingBug-PoisonBug-PoisonBug-PoisonBug-PoisonNormal-FlyingNormal-FlyingNormal-FlyingNormal-FlyingNormalNormalNormal-FlyingNormal-FlyingPoisonPoisonElectricElectricGroundGroundPoisonPoisonPoison-GroundPoisonPoisonPoison-GroundFairyFairyFireFireNormal-FairyNormal-FairyPoison-FlyingPoison-FlyingGrass-PoisonGrass-PoisonGrass-PoisonBug-GrassBug-GrassBug-PoisonBug-PoisonGroundGroundNormalNormalWaterWaterFightingFightingFireFireWaterWaterWater-FightingPsychicPsychicPsychicPsychicFightingFightingFightingGrass-PoisonGrass-PoisonGrass-PoisonWater-PoisonWater-PoisonRock-GroundRock-GroundRock-GroundFireFireWater-PsychicWater-PsychicWater-PsychicElectric-SteelElectric-SteelNormal-FlyingNormal-FlyingNormal-FlyingWaterWater-IcePoisonPoisonWaterWater-IceGhost-PoisonGhost-PoisonGhost-PoisonGhost-PoisonRock-GroundPsychicPsychicWaterWaterElectricElectricGrass-PsychicGrass-PsychicGroundGroundFightingFightingNormalPoisonPoisonGround-RockGround-RockNormalGrassNormalNormalWaterWaterWaterWaterWaterWater-PsychicPsychic-FairyBug-FlyingIce-PsychicElectricFireBugBug-FlyingNormalWaterWater-FlyingWater-DarkWater-IceNormalNormalWaterElectricFireNormalRock-WaterRock-WaterRock-WaterRock-WaterRock-FlyingRock-FlyingNormalIce-FlyingElectric-FlyingFire-FlyingDragonDragonDragon-FlyingPsychicPsychic-FightingPsychicPsychicGrassGrassGrassFireFireFireWaterWaterWaterNormalNormalNormal-FlyingNormal-FlyingBug-FlyingBug-FlyingBug-PoisonBug-PoisonPoison-FlyingWater-ElectricWater-ElectricElectricFairyNormal-FairyFairyFairy-FlyingPsychic-FlyingPsychic-FlyingElectricElectricElectricElectric-DragonGrassWater-FairyWater-FairyRockWaterGrass-FlyingGrass-FlyingGrass-FlyingNormalGrassGrassBug-FlyingWater-GroundWater-GroundPsychicDarkDark-FlyingWater-PsychicGhostPsychicPsychicNormal-PsychicBugBug-SteelNormalGround-FlyingSteel-GroundSteel-GroundFairyFairyWater-PoisonBug-SteelBug-SteelBug-RockBug-FightingBug-FightingDark-IceNormalNormalFireFire-RockIce-GroundIce-GroundWater-RockWaterWaterIce-FlyingWater-FlyingSteel-FlyingDark-FireDark-FireDark-FireWater-DragonGroundGroundNormalNormalNormalFightingFightingIce-PsychicElectricFireNormalNormalElectricFireWaterRock-GroundRock-GroundRock-DarkRock-DarkPsychic-FlyingFire-FlyingPsychic-GrassGrassGrassGrassGrass-DragonFireFire-FightingFire-FightingFire-FightingWaterWater-GroundWater-GroundWater-GroundDarkDarkNormalNormalBugBugBug-FlyingBugBug-PoisonWater-GrassWater-GrassWater-GrassGrassGrass-DarkGrass-DarkNormal-FlyingNormal-FlyingWater-FlyingWater-FlyingPsychic-FairyPsychic-FairyPsychic-FairyPsychic-FairyBug-WaterBug-FlyingGrassGrass-FightingNormalNormalNormalBug-GroundBug-FlyingBug-GhostNormalNormalNormalFightingFightingNormal-FairyRockNormalNormalDark-GhostDark-GhostSteel-FairySteel-FairySteel-RockSteel-RockSteel-RockSteelFighting-PsychicFighting-PsychicFighting-PsychicElectricElectricElectricElectricElectricBugBugGrass-PoisonPoisonPoisonWater-DarkWater-DarkWater-DarkWaterWaterFire-GroundFire-GroundFire-GroundFirePsychicPsychicNormalGroundGround-DragonGround-DragonGrassGrass-DarkNormal-FlyingDragon-FlyingDragon-FairyNormalPoisonRock-PsychicRock-PsychicWater-GroundWater-GroundWaterWater-DarkGround-PsychicGround-PsychicRock-GrassRock-GrassRock-BugRock-BugWaterWaterNormalNormalGhostGhostGhostGhostGhostGrass-FlyingPsychicDarkDarkPsychicIceIceIceIce-WaterIce-WaterIce-WaterWaterWaterWaterWater-RockWaterDragonDragonDragon-FlyingDragon-FlyingSteel-PsychicSteel-PsychicSteel-PsychicSteel-PsychicRockIceSteelDragon-PsychicDragon-PsychicDragon-PsychicDragon-PsychicWaterWaterGroundGround-FireDragon-FlyingDragon-FlyingSteel-PsychicPsychicPsychicPsychicPsychicGrassGrassGrass-GroundFireFire-FightingFire-FightingWaterWaterWater-SteelNormal-FlyingNormal-FlyingNormal-FlyingNormalNormal-WaterBugBugElectricElectricElectricGrass-PoisonGrass-PoisonRockRockRock-SteelRock-SteelBugBug-GrassBug-GroundBug-SteelBug-FlyingBug-FlyingBug-FlyingElectricWaterWaterGrassGrassWaterWater-GroundNormalGhost-FlyingGhost-FlyingNormalNormalNormal-FightingGhostDark-FlyingNormalNormalPsychicPoison-DarkPoison-DarkSteel-PsychicSteel-PsychicRockPsychic-FairyNormalNormal-FlyingGhost-DarkDragon-GroundDragon-GroundDragon-GroundDragon-GroundNormalFightingFighting-SteelFighting-SteelGroundGroundPoison-BugPoison-DarkPoison-FightingPoison-FightingGrassWaterWaterWater-FlyingGrass-IceGrass-IceGrass-IceDark-IceElectric-SteelNormalGround-RockGrassElectricFireFairy-FlyingBug-FlyingGrassIceGround-FlyingIce-GroundNormalPsychic-FightingPsychic-FightingRock-SteelGhostIce-GhostElectric-GhostElectric-FireElectric-WaterElectric-IceElectric-FlyingElectric-GrassPsychicPsychicPsychicSteel-DragonWater-DragonFire-SteelNormalGhost-DragonGhost-DragonPsychicWaterWaterDarkGrassGrass-FlyingNormalPsychic-FireGrassGrassGrassFireFire-FightingFire-FightingWaterWaterWaterNormalNormalNormalNormalNormalDarkDarkGrassGrassFireFireWaterWaterPsychicPsychicNormal-FlyingNormal-FlyingNormal-FlyingElectricElectricRockRockRockPsychic-FlyingPsychic-FlyingGroundGround-SteelNormalNormal-FairyFightingFightingFightingWaterWater-GroundWater-GroundFightingFightingBug-GrassBug-GrassBug-GrassBug-PoisonBug-PoisonBug-PoisonGrass-FairyGrass-FairyGrassGrassWaterGround-DarkGround-DarkGround-DarkFireFireFire-PsychicGrassBug-RockBug-RockDark-FightingDark-FightingPsychic-FlyingGhostGhostWater-RockWater-RockRock-FlyingRock-FlyingPoisonPoisonDarkDarkNormalNormalPsychicPsychicPsychicPsychicPsychicPsychicWater-FlyingWater-FlyingIceIceIceNormal-GrassNormal-GrassElectric-FlyingBugBug-SteelGrass-PoisonGrass-PoisonWater-GhostWater-GhostWaterBug-ElectricBug-ElectricGrass-SteelGrass-SteelSteelSteelSteelElectricElectricElectricPsychicPsychicGhost-FireGhost-FireGhost-FireDragonDragonDragonIceIceIceBugBugGround-ElectricFightingFightingDragonGround-GhostGround-GhostDark-SteelDark-SteelNormalNormal-FlyingNormal-FlyingDark-FlyingDark-FlyingFireBug-SteelDark-DragonDark-DragonDark-DragonBug-FireBug-FireSteel-FightingRock-FightingGrass-FightingFlyingFlyingElectric-FlyingElectric-FlyingDragon-FireDragon-ElectricGround-FlyingGround-FlyingDragon-IceDragon-IceDragon-IceWater-FightingWater-FightingNormal-PsychicNormal-FightingBug-SteelGrassGrassGrass-FightingFireFireFire-PsychicWaterWaterWater-DarkNormalNormal-GroundNormal-FlyingFire-FlyingFire-FlyingBugBugBug-FlyingFire-NormalFire-NormalFairyFairyFairyGrassGrassFightingFighting-DarkNormalPsychicPsychicPsychicSteel-GhostSteel-GhostSteel-GhostSteel-GhostFairyFairyFairyFairyDark-PsychicDark-PsychicRock-WaterRock-WaterPoison-WaterPoison-DragonWaterWaterElectric-NormalElectric-NormalRock-DragonRock-DragonRock-IceRock-IceFairyFighting-FlyingElectric-FairyRock-FairyDragonDragonDragonSteel-FairyGhost-GrassGhost-GrassGhost-GrassGhost-GrassGhost-GrassGhost-GrassGhost-GrassGhost-GrassGhost-GrassGhost-GrassIceIceFlying-DragonFlying-DragonFairyDark-FlyingDragon-GroundRock-FairyRock-FairyPsychic-GhostPsychic-DarkFire-Water to numeric",
     "output_type": "error",
     "traceback": [
      "\u001b[1;31m---------------------------------------------------------------------------\u001b[0m",
      "\u001b[1;31mValueError\u001b[0m                                Traceback (most recent call last)",
      "File \u001b[1;32m~\\condamini\\envs\\jupyter_env\\lib\\site-packages\\pandas\\core\\nanops.py:1692\u001b[0m, in \u001b[0;36m_ensure_numeric\u001b[1;34m(x)\u001b[0m\n\u001b[0;32m   1691\u001b[0m \u001b[38;5;28;01mtry\u001b[39;00m:\n\u001b[1;32m-> 1692\u001b[0m     x \u001b[38;5;241m=\u001b[39m \u001b[38;5;28;43mfloat\u001b[39;49m\u001b[43m(\u001b[49m\u001b[43mx\u001b[49m\u001b[43m)\u001b[49m\n\u001b[0;32m   1693\u001b[0m \u001b[38;5;28;01mexcept\u001b[39;00m (\u001b[38;5;167;01mTypeError\u001b[39;00m, \u001b[38;5;167;01mValueError\u001b[39;00m):\n\u001b[0;32m   1694\u001b[0m     \u001b[38;5;66;03m# e.g. \"1+1j\" or \"foo\"\u001b[39;00m\n",
      "\u001b[1;31mValueError\u001b[0m: could not convert string to float: 'Grass-PoisonGrass-PoisonGrass-PoisonGrass-PoisonFireFireFire-FlyingFire-DragonFire-FlyingWaterWaterWaterWaterBugBugBug-FlyingBug-PoisonBug-PoisonBug-PoisonBug-PoisonNormal-FlyingNormal-FlyingNormal-FlyingNormal-FlyingNormalNormalNormal-FlyingNormal-FlyingPoisonPoisonElectricElectricGroundGroundPoisonPoisonPoison-GroundPoisonPoisonPoison-GroundFairyFairyFireFireNormal-FairyNormal-FairyPoison-FlyingPoison-FlyingGrass-PoisonGrass-PoisonGrass-PoisonBug-GrassBug-GrassBug-PoisonBug-PoisonGroundGroundNormalNormalWaterWaterFightingFightingFireFireWaterWaterWater-FightingPsychicPsychicPsychicPsychicFightingFightingFightingGrass-PoisonGrass-PoisonGrass-PoisonWater-PoisonWater-PoisonRock-GroundRock-GroundRock-GroundFireFireWater-PsychicWater-PsychicWater-PsychicElectric-SteelElectric-SteelNormal-FlyingNormal-FlyingNormal-FlyingWaterWater-IcePoisonPoisonWaterWater-IceGhost-PoisonGhost-PoisonGhost-PoisonGhost-PoisonRock-GroundPsychicPsychicWaterWaterElectricElectricGrass-PsychicGrass-PsychicGroundGroundFightingFightingNormalPoisonPoisonGround-RockGround-RockNormalGrassNormalNormalWaterWaterWaterWaterWaterWater-PsychicPsychic-FairyBug-FlyingIce-PsychicElectricFireBugBug-FlyingNormalWaterWater-FlyingWater-DarkWater-IceNormalNormalWaterElectricFireNormalRock-WaterRock-WaterRock-WaterRock-WaterRock-FlyingRock-FlyingNormalIce-FlyingElectric-FlyingFire-FlyingDragonDragonDragon-FlyingPsychicPsychic-FightingPsychicPsychicGrassGrassGrassFireFireFireWaterWaterWaterNormalNormalNormal-FlyingNormal-FlyingBug-FlyingBug-FlyingBug-PoisonBug-PoisonPoison-FlyingWater-ElectricWater-ElectricElectricFairyNormal-FairyFairyFairy-FlyingPsychic-FlyingPsychic-FlyingElectricElectricElectricElectric-DragonGrassWater-FairyWater-FairyRockWaterGrass-FlyingGrass-FlyingGrass-FlyingNormalGrassGrassBug-FlyingWater-GroundWater-GroundPsychicDarkDark-FlyingWater-PsychicGhostPsychicPsychicNormal-PsychicBugBug-SteelNormalGround-FlyingSteel-GroundSteel-GroundFairyFairyWater-PoisonBug-SteelBug-SteelBug-RockBug-FightingBug-FightingDark-IceNormalNormalFireFire-RockIce-GroundIce-GroundWater-RockWaterWaterIce-FlyingWater-FlyingSteel-FlyingDark-FireDark-FireDark-FireWater-DragonGroundGroundNormalNormalNormalFightingFightingIce-PsychicElectricFireNormalNormalElectricFireWaterRock-GroundRock-GroundRock-DarkRock-DarkPsychic-FlyingFire-FlyingPsychic-GrassGrassGrassGrassGrass-DragonFireFire-FightingFire-FightingFire-FightingWaterWater-GroundWater-GroundWater-GroundDarkDarkNormalNormalBugBugBug-FlyingBugBug-PoisonWater-GrassWater-GrassWater-GrassGrassGrass-DarkGrass-DarkNormal-FlyingNormal-FlyingWater-FlyingWater-FlyingPsychic-FairyPsychic-FairyPsychic-FairyPsychic-FairyBug-WaterBug-FlyingGrassGrass-FightingNormalNormalNormalBug-GroundBug-FlyingBug-GhostNormalNormalNormalFightingFightingNormal-FairyRockNormalNormalDark-GhostDark-GhostSteel-FairySteel-FairySteel-RockSteel-RockSteel-RockSteelFighting-PsychicFighting-PsychicFighting-PsychicElectricElectricElectricElectricElectricBugBugGrass-PoisonPoisonPoisonWater-DarkWater-DarkWater-DarkWaterWaterFire-GroundFire-GroundFire-GroundFirePsychicPsychicNormalGroundGround-DragonGround-DragonGrassGrass-DarkNormal-FlyingDragon-FlyingDragon-FairyNormalPoisonRock-PsychicRock-PsychicWater-GroundWater-GroundWaterWater-DarkGround-PsychicGround-PsychicRock-GrassRock-GrassRock-BugRock-BugWaterWaterNormalNormalGhostGhostGhostGhostGhostGrass-FlyingPsychicDarkDarkPsychicIceIceIceIce-WaterIce-WaterIce-WaterWaterWaterWaterWater-RockWaterDragonDragonDragon-FlyingDragon-FlyingSteel-PsychicSteel-PsychicSteel-PsychicSteel-PsychicRockIceSteelDragon-PsychicDragon-PsychicDragon-PsychicDragon-PsychicWaterWaterGroundGround-FireDragon-FlyingDragon-FlyingSteel-PsychicPsychicPsychicPsychicPsychicGrassGrassGrass-GroundFireFire-FightingFire-FightingWaterWaterWater-SteelNormal-FlyingNormal-FlyingNormal-FlyingNormalNormal-WaterBugBugElectricElectricElectricGrass-PoisonGrass-PoisonRockRockRock-SteelRock-SteelBugBug-GrassBug-GroundBug-SteelBug-FlyingBug-FlyingBug-FlyingElectricWaterWaterGrassGrassWaterWater-GroundNormalGhost-FlyingGhost-FlyingNormalNormalNormal-FightingGhostDark-FlyingNormalNormalPsychicPoison-DarkPoison-DarkSteel-PsychicSteel-PsychicRockPsychic-FairyNormalNormal-FlyingGhost-DarkDragon-GroundDragon-GroundDragon-GroundDragon-GroundNormalFightingFighting-SteelFighting-SteelGroundGroundPoison-BugPoison-DarkPoison-FightingPoison-FightingGrassWaterWaterWater-FlyingGrass-IceGrass-IceGrass-IceDark-IceElectric-SteelNormalGround-RockGrassElectricFireFairy-FlyingBug-FlyingGrassIceGround-FlyingIce-GroundNormalPsychic-FightingPsychic-FightingRock-SteelGhostIce-GhostElectric-GhostElectric-FireElectric-WaterElectric-IceElectric-FlyingElectric-GrassPsychicPsychicPsychicSteel-DragonWater-DragonFire-SteelNormalGhost-DragonGhost-DragonPsychicWaterWaterDarkGrassGrass-FlyingNormalPsychic-FireGrassGrassGrassFireFire-FightingFire-FightingWaterWaterWaterNormalNormalNormalNormalNormalDarkDarkGrassGrassFireFireWaterWaterPsychicPsychicNormal-FlyingNormal-FlyingNormal-FlyingElectricElectricRockRockRockPsychic-FlyingPsychic-FlyingGroundGround-SteelNormalNormal-FairyFightingFightingFightingWaterWater-GroundWater-GroundFightingFightingBug-GrassBug-GrassBug-GrassBug-PoisonBug-PoisonBug-PoisonGrass-FairyGrass-FairyGrassGrassWaterGround-DarkGround-DarkGround-DarkFireFireFire-PsychicGrassBug-RockBug-RockDark-FightingDark-FightingPsychic-FlyingGhostGhostWater-RockWater-RockRock-FlyingRock-FlyingPoisonPoisonDarkDarkNormalNormalPsychicPsychicPsychicPsychicPsychicPsychicWater-FlyingWater-FlyingIceIceIceNormal-GrassNormal-GrassElectric-FlyingBugBug-SteelGrass-PoisonGrass-PoisonWater-GhostWater-GhostWaterBug-ElectricBug-ElectricGrass-SteelGrass-SteelSteelSteelSteelElectricElectricElectricPsychicPsychicGhost-FireGhost-FireGhost-FireDragonDragonDragonIceIceIceBugBugGround-ElectricFightingFightingDragonGround-GhostGround-GhostDark-SteelDark-SteelNormalNormal-FlyingNormal-FlyingDark-FlyingDark-FlyingFireBug-SteelDark-DragonDark-DragonDark-DragonBug-FireBug-FireSteel-FightingRock-FightingGrass-FightingFlyingFlyingElectric-FlyingElectric-FlyingDragon-FireDragon-ElectricGround-FlyingGround-FlyingDragon-IceDragon-IceDragon-IceWater-FightingWater-FightingNormal-PsychicNormal-FightingBug-SteelGrassGrassGrass-FightingFireFireFire-PsychicWaterWaterWater-DarkNormalNormal-GroundNormal-FlyingFire-FlyingFire-FlyingBugBugBug-FlyingFire-NormalFire-NormalFairyFairyFairyGrassGrassFightingFighting-DarkNormalPsychicPsychicPsychicSteel-GhostSteel-GhostSteel-GhostSteel-GhostFairyFairyFairyFairyDark-PsychicDark-PsychicRock-WaterRock-WaterPoison-WaterPoison-DragonWaterWaterElectric-NormalElectric-NormalRock-DragonRock-DragonRock-IceRock-IceFairyFighting-FlyingElectric-FairyRock-FairyDragonDragonDragonSteel-FairyGhost-GrassGhost-GrassGhost-GrassGhost-GrassGhost-GrassGhost-GrassGhost-GrassGhost-GrassGhost-GrassGhost-GrassIceIceFlying-DragonFlying-DragonFairyDark-FlyingDragon-GroundRock-FairyRock-FairyPsychic-GhostPsychic-DarkFire-Water'",
      "\nDuring handling of the above exception, another exception occurred:\n",
      "\u001b[1;31mValueError\u001b[0m                                Traceback (most recent call last)",
      "File \u001b[1;32m~\\condamini\\envs\\jupyter_env\\lib\\site-packages\\pandas\\core\\nanops.py:1696\u001b[0m, in \u001b[0;36m_ensure_numeric\u001b[1;34m(x)\u001b[0m\n\u001b[0;32m   1695\u001b[0m \u001b[38;5;28;01mtry\u001b[39;00m:\n\u001b[1;32m-> 1696\u001b[0m     x \u001b[38;5;241m=\u001b[39m \u001b[38;5;28;43mcomplex\u001b[39;49m\u001b[43m(\u001b[49m\u001b[43mx\u001b[49m\u001b[43m)\u001b[49m\n\u001b[0;32m   1697\u001b[0m \u001b[38;5;28;01mexcept\u001b[39;00m \u001b[38;5;167;01mValueError\u001b[39;00m \u001b[38;5;28;01mas\u001b[39;00m err:\n\u001b[0;32m   1698\u001b[0m     \u001b[38;5;66;03m# e.g. \"foo\"\u001b[39;00m\n",
      "\u001b[1;31mValueError\u001b[0m: complex() arg is a malformed string",
      "\nThe above exception was the direct cause of the following exception:\n",
      "\u001b[1;31mTypeError\u001b[0m                                 Traceback (most recent call last)",
      "Cell \u001b[1;32mIn[38], line 1\u001b[0m\n\u001b[1;32m----> 1\u001b[0m mean \u001b[38;5;241m=\u001b[39m \u001b[43mpokemon_df\u001b[49m\u001b[43m[\u001b[49m\u001b[38;5;124;43m'\u001b[39;49m\u001b[38;5;124;43mCombo Type\u001b[39;49m\u001b[38;5;124;43m'\u001b[39;49m\u001b[43m]\u001b[49m\u001b[38;5;241;43m.\u001b[39;49m\u001b[43mmean\u001b[49m\u001b[43m(\u001b[49m\u001b[43m)\u001b[49m\n\u001b[0;32m      2\u001b[0m \u001b[38;5;28mprint\u001b[39m(mean)\n",
      "File \u001b[1;32m~\\condamini\\envs\\jupyter_env\\lib\\site-packages\\pandas\\core\\generic.py:11556\u001b[0m, in \u001b[0;36mNDFrame._add_numeric_operations.<locals>.mean\u001b[1;34m(self, axis, skipna, numeric_only, **kwargs)\u001b[0m\n\u001b[0;32m  11539\u001b[0m \u001b[38;5;129m@doc\u001b[39m(\n\u001b[0;32m  11540\u001b[0m     _num_doc,\n\u001b[0;32m  11541\u001b[0m     desc\u001b[38;5;241m=\u001b[39m\u001b[38;5;124m\"\u001b[39m\u001b[38;5;124mReturn the mean of the values over the requested axis.\u001b[39m\u001b[38;5;124m\"\u001b[39m,\n\u001b[1;32m   (...)\u001b[0m\n\u001b[0;32m  11554\u001b[0m     \u001b[38;5;241m*\u001b[39m\u001b[38;5;241m*\u001b[39mkwargs,\n\u001b[0;32m  11555\u001b[0m ):\n\u001b[1;32m> 11556\u001b[0m     \u001b[38;5;28;01mreturn\u001b[39;00m NDFrame\u001b[38;5;241m.\u001b[39mmean(\u001b[38;5;28mself\u001b[39m, axis, skipna, numeric_only, \u001b[38;5;241m*\u001b[39m\u001b[38;5;241m*\u001b[39mkwargs)\n",
      "File \u001b[1;32m~\\condamini\\envs\\jupyter_env\\lib\\site-packages\\pandas\\core\\generic.py:11201\u001b[0m, in \u001b[0;36mNDFrame.mean\u001b[1;34m(self, axis, skipna, numeric_only, **kwargs)\u001b[0m\n\u001b[0;32m  11194\u001b[0m \u001b[38;5;28;01mdef\u001b[39;00m \u001b[38;5;21mmean\u001b[39m(\n\u001b[0;32m  11195\u001b[0m     \u001b[38;5;28mself\u001b[39m,\n\u001b[0;32m  11196\u001b[0m     axis: Axis \u001b[38;5;241m|\u001b[39m \u001b[38;5;28;01mNone\u001b[39;00m \u001b[38;5;241m=\u001b[39m \u001b[38;5;241m0\u001b[39m,\n\u001b[1;32m   (...)\u001b[0m\n\u001b[0;32m  11199\u001b[0m     \u001b[38;5;241m*\u001b[39m\u001b[38;5;241m*\u001b[39mkwargs,\n\u001b[0;32m  11200\u001b[0m ) \u001b[38;5;241m-\u001b[39m\u001b[38;5;241m>\u001b[39m Series \u001b[38;5;241m|\u001b[39m \u001b[38;5;28mfloat\u001b[39m:\n\u001b[1;32m> 11201\u001b[0m     \u001b[38;5;28;01mreturn\u001b[39;00m \u001b[38;5;28mself\u001b[39m\u001b[38;5;241m.\u001b[39m_stat_function(\n\u001b[0;32m  11202\u001b[0m         \u001b[38;5;124m\"\u001b[39m\u001b[38;5;124mmean\u001b[39m\u001b[38;5;124m\"\u001b[39m, nanops\u001b[38;5;241m.\u001b[39mnanmean, axis, skipna, numeric_only, \u001b[38;5;241m*\u001b[39m\u001b[38;5;241m*\u001b[39mkwargs\n\u001b[0;32m  11203\u001b[0m     )\n",
      "File \u001b[1;32m~\\condamini\\envs\\jupyter_env\\lib\\site-packages\\pandas\\core\\generic.py:11158\u001b[0m, in \u001b[0;36mNDFrame._stat_function\u001b[1;34m(self, name, func, axis, skipna, numeric_only, **kwargs)\u001b[0m\n\u001b[0;32m  11154\u001b[0m     nv\u001b[38;5;241m.\u001b[39mvalidate_stat_func((), kwargs, fname\u001b[38;5;241m=\u001b[39mname)\n\u001b[0;32m  11156\u001b[0m validate_bool_kwarg(skipna, \u001b[38;5;124m\"\u001b[39m\u001b[38;5;124mskipna\u001b[39m\u001b[38;5;124m\"\u001b[39m, none_allowed\u001b[38;5;241m=\u001b[39m\u001b[38;5;28;01mFalse\u001b[39;00m)\n\u001b[1;32m> 11158\u001b[0m \u001b[38;5;28;01mreturn\u001b[39;00m \u001b[38;5;28;43mself\u001b[39;49m\u001b[38;5;241;43m.\u001b[39;49m\u001b[43m_reduce\u001b[49m\u001b[43m(\u001b[49m\n\u001b[0;32m  11159\u001b[0m \u001b[43m    \u001b[49m\u001b[43mfunc\u001b[49m\u001b[43m,\u001b[49m\u001b[43m \u001b[49m\u001b[43mname\u001b[49m\u001b[38;5;241;43m=\u001b[39;49m\u001b[43mname\u001b[49m\u001b[43m,\u001b[49m\u001b[43m \u001b[49m\u001b[43maxis\u001b[49m\u001b[38;5;241;43m=\u001b[39;49m\u001b[43maxis\u001b[49m\u001b[43m,\u001b[49m\u001b[43m \u001b[49m\u001b[43mskipna\u001b[49m\u001b[38;5;241;43m=\u001b[39;49m\u001b[43mskipna\u001b[49m\u001b[43m,\u001b[49m\u001b[43m \u001b[49m\u001b[43mnumeric_only\u001b[49m\u001b[38;5;241;43m=\u001b[39;49m\u001b[43mnumeric_only\u001b[49m\n\u001b[0;32m  11160\u001b[0m \u001b[43m\u001b[49m\u001b[43m)\u001b[49m\n",
      "File \u001b[1;32m~\\condamini\\envs\\jupyter_env\\lib\\site-packages\\pandas\\core\\series.py:4670\u001b[0m, in \u001b[0;36mSeries._reduce\u001b[1;34m(self, op, name, axis, skipna, numeric_only, filter_type, **kwds)\u001b[0m\n\u001b[0;32m   4665\u001b[0m     \u001b[38;5;28;01mraise\u001b[39;00m \u001b[38;5;167;01mTypeError\u001b[39;00m(\n\u001b[0;32m   4666\u001b[0m         \u001b[38;5;124mf\u001b[39m\u001b[38;5;124m\"\u001b[39m\u001b[38;5;124mSeries.\u001b[39m\u001b[38;5;132;01m{\u001b[39;00mname\u001b[38;5;132;01m}\u001b[39;00m\u001b[38;5;124m does not allow \u001b[39m\u001b[38;5;132;01m{\u001b[39;00mkwd_name\u001b[38;5;132;01m}\u001b[39;00m\u001b[38;5;124m=\u001b[39m\u001b[38;5;132;01m{\u001b[39;00mnumeric_only\u001b[38;5;132;01m}\u001b[39;00m\u001b[38;5;124m \u001b[39m\u001b[38;5;124m\"\u001b[39m\n\u001b[0;32m   4667\u001b[0m         \u001b[38;5;124m\"\u001b[39m\u001b[38;5;124mwith non-numeric dtypes.\u001b[39m\u001b[38;5;124m\"\u001b[39m\n\u001b[0;32m   4668\u001b[0m     )\n\u001b[0;32m   4669\u001b[0m \u001b[38;5;28;01mwith\u001b[39;00m np\u001b[38;5;241m.\u001b[39merrstate(\u001b[38;5;28mall\u001b[39m\u001b[38;5;241m=\u001b[39m\u001b[38;5;124m\"\u001b[39m\u001b[38;5;124mignore\u001b[39m\u001b[38;5;124m\"\u001b[39m):\n\u001b[1;32m-> 4670\u001b[0m     \u001b[38;5;28;01mreturn\u001b[39;00m op(delegate, skipna\u001b[38;5;241m=\u001b[39mskipna, \u001b[38;5;241m*\u001b[39m\u001b[38;5;241m*\u001b[39mkwds)\n",
      "File \u001b[1;32m~\\condamini\\envs\\jupyter_env\\lib\\site-packages\\pandas\\core\\nanops.py:96\u001b[0m, in \u001b[0;36mdisallow.__call__.<locals>._f\u001b[1;34m(*args, **kwargs)\u001b[0m\n\u001b[0;32m     94\u001b[0m \u001b[38;5;28;01mtry\u001b[39;00m:\n\u001b[0;32m     95\u001b[0m     \u001b[38;5;28;01mwith\u001b[39;00m np\u001b[38;5;241m.\u001b[39merrstate(invalid\u001b[38;5;241m=\u001b[39m\u001b[38;5;124m\"\u001b[39m\u001b[38;5;124mignore\u001b[39m\u001b[38;5;124m\"\u001b[39m):\n\u001b[1;32m---> 96\u001b[0m         \u001b[38;5;28;01mreturn\u001b[39;00m f(\u001b[38;5;241m*\u001b[39margs, \u001b[38;5;241m*\u001b[39m\u001b[38;5;241m*\u001b[39mkwargs)\n\u001b[0;32m     97\u001b[0m \u001b[38;5;28;01mexcept\u001b[39;00m \u001b[38;5;167;01mValueError\u001b[39;00m \u001b[38;5;28;01mas\u001b[39;00m e:\n\u001b[0;32m     98\u001b[0m     \u001b[38;5;66;03m# we want to transform an object array\u001b[39;00m\n\u001b[0;32m     99\u001b[0m     \u001b[38;5;66;03m# ValueError message to the more typical TypeError\u001b[39;00m\n\u001b[0;32m    100\u001b[0m     \u001b[38;5;66;03m# e.g. this is normally a disallowed function on\u001b[39;00m\n\u001b[0;32m    101\u001b[0m     \u001b[38;5;66;03m# object arrays that contain strings\u001b[39;00m\n\u001b[0;32m    102\u001b[0m     \u001b[38;5;28;01mif\u001b[39;00m is_object_dtype(args[\u001b[38;5;241m0\u001b[39m]):\n",
      "File \u001b[1;32m~\\condamini\\envs\\jupyter_env\\lib\\site-packages\\pandas\\core\\nanops.py:158\u001b[0m, in \u001b[0;36mbottleneck_switch.__call__.<locals>.f\u001b[1;34m(values, axis, skipna, **kwds)\u001b[0m\n\u001b[0;32m    156\u001b[0m         result \u001b[38;5;241m=\u001b[39m alt(values, axis\u001b[38;5;241m=\u001b[39maxis, skipna\u001b[38;5;241m=\u001b[39mskipna, \u001b[38;5;241m*\u001b[39m\u001b[38;5;241m*\u001b[39mkwds)\n\u001b[0;32m    157\u001b[0m \u001b[38;5;28;01melse\u001b[39;00m:\n\u001b[1;32m--> 158\u001b[0m     result \u001b[38;5;241m=\u001b[39m alt(values, axis\u001b[38;5;241m=\u001b[39maxis, skipna\u001b[38;5;241m=\u001b[39mskipna, \u001b[38;5;241m*\u001b[39m\u001b[38;5;241m*\u001b[39mkwds)\n\u001b[0;32m    160\u001b[0m \u001b[38;5;28;01mreturn\u001b[39;00m result\n",
      "File \u001b[1;32m~\\condamini\\envs\\jupyter_env\\lib\\site-packages\\pandas\\core\\nanops.py:421\u001b[0m, in \u001b[0;36m_datetimelike_compat.<locals>.new_func\u001b[1;34m(values, axis, skipna, mask, **kwargs)\u001b[0m\n\u001b[0;32m    418\u001b[0m \u001b[38;5;28;01mif\u001b[39;00m datetimelike \u001b[38;5;129;01mand\u001b[39;00m mask \u001b[38;5;129;01mis\u001b[39;00m \u001b[38;5;28;01mNone\u001b[39;00m:\n\u001b[0;32m    419\u001b[0m     mask \u001b[38;5;241m=\u001b[39m isna(values)\n\u001b[1;32m--> 421\u001b[0m result \u001b[38;5;241m=\u001b[39m func(values, axis\u001b[38;5;241m=\u001b[39maxis, skipna\u001b[38;5;241m=\u001b[39mskipna, mask\u001b[38;5;241m=\u001b[39mmask, \u001b[38;5;241m*\u001b[39m\u001b[38;5;241m*\u001b[39mkwargs)\n\u001b[0;32m    423\u001b[0m \u001b[38;5;28;01mif\u001b[39;00m datetimelike:\n\u001b[0;32m    424\u001b[0m     result \u001b[38;5;241m=\u001b[39m _wrap_results(result, orig_values\u001b[38;5;241m.\u001b[39mdtype, fill_value\u001b[38;5;241m=\u001b[39miNaT)\n",
      "File \u001b[1;32m~\\condamini\\envs\\jupyter_env\\lib\\site-packages\\pandas\\core\\nanops.py:727\u001b[0m, in \u001b[0;36mnanmean\u001b[1;34m(values, axis, skipna, mask)\u001b[0m\n\u001b[0;32m    724\u001b[0m     dtype_count \u001b[38;5;241m=\u001b[39m dtype\n\u001b[0;32m    726\u001b[0m count \u001b[38;5;241m=\u001b[39m _get_counts(values\u001b[38;5;241m.\u001b[39mshape, mask, axis, dtype\u001b[38;5;241m=\u001b[39mdtype_count)\n\u001b[1;32m--> 727\u001b[0m the_sum \u001b[38;5;241m=\u001b[39m \u001b[43m_ensure_numeric\u001b[49m\u001b[43m(\u001b[49m\u001b[43mvalues\u001b[49m\u001b[38;5;241;43m.\u001b[39;49m\u001b[43msum\u001b[49m\u001b[43m(\u001b[49m\u001b[43maxis\u001b[49m\u001b[43m,\u001b[49m\u001b[43m \u001b[49m\u001b[43mdtype\u001b[49m\u001b[38;5;241;43m=\u001b[39;49m\u001b[43mdtype_sum\u001b[49m\u001b[43m)\u001b[49m\u001b[43m)\u001b[49m\n\u001b[0;32m    729\u001b[0m \u001b[38;5;28;01mif\u001b[39;00m axis \u001b[38;5;129;01mis\u001b[39;00m \u001b[38;5;129;01mnot\u001b[39;00m \u001b[38;5;28;01mNone\u001b[39;00m \u001b[38;5;129;01mand\u001b[39;00m \u001b[38;5;28mgetattr\u001b[39m(the_sum, \u001b[38;5;124m\"\u001b[39m\u001b[38;5;124mndim\u001b[39m\u001b[38;5;124m\"\u001b[39m, \u001b[38;5;28;01mFalse\u001b[39;00m):\n\u001b[0;32m    730\u001b[0m     count \u001b[38;5;241m=\u001b[39m cast(np\u001b[38;5;241m.\u001b[39mndarray, count)\n",
      "File \u001b[1;32m~\\condamini\\envs\\jupyter_env\\lib\\site-packages\\pandas\\core\\nanops.py:1699\u001b[0m, in \u001b[0;36m_ensure_numeric\u001b[1;34m(x)\u001b[0m\n\u001b[0;32m   1696\u001b[0m             x \u001b[38;5;241m=\u001b[39m \u001b[38;5;28mcomplex\u001b[39m(x)\n\u001b[0;32m   1697\u001b[0m         \u001b[38;5;28;01mexcept\u001b[39;00m \u001b[38;5;167;01mValueError\u001b[39;00m \u001b[38;5;28;01mas\u001b[39;00m err:\n\u001b[0;32m   1698\u001b[0m             \u001b[38;5;66;03m# e.g. \"foo\"\u001b[39;00m\n\u001b[1;32m-> 1699\u001b[0m             \u001b[38;5;28;01mraise\u001b[39;00m \u001b[38;5;167;01mTypeError\u001b[39;00m(\u001b[38;5;124mf\u001b[39m\u001b[38;5;124m\"\u001b[39m\u001b[38;5;124mCould not convert \u001b[39m\u001b[38;5;132;01m{\u001b[39;00mx\u001b[38;5;132;01m}\u001b[39;00m\u001b[38;5;124m to numeric\u001b[39m\u001b[38;5;124m\"\u001b[39m) \u001b[38;5;28;01mfrom\u001b[39;00m \u001b[38;5;21;01merr\u001b[39;00m\n\u001b[0;32m   1700\u001b[0m \u001b[38;5;28;01mreturn\u001b[39;00m x\n",
      "\u001b[1;31mTypeError\u001b[0m: Could not convert Grass-PoisonGrass-PoisonGrass-PoisonGrass-PoisonFireFireFire-FlyingFire-DragonFire-FlyingWaterWaterWaterWaterBugBugBug-FlyingBug-PoisonBug-PoisonBug-PoisonBug-PoisonNormal-FlyingNormal-FlyingNormal-FlyingNormal-FlyingNormalNormalNormal-FlyingNormal-FlyingPoisonPoisonElectricElectricGroundGroundPoisonPoisonPoison-GroundPoisonPoisonPoison-GroundFairyFairyFireFireNormal-FairyNormal-FairyPoison-FlyingPoison-FlyingGrass-PoisonGrass-PoisonGrass-PoisonBug-GrassBug-GrassBug-PoisonBug-PoisonGroundGroundNormalNormalWaterWaterFightingFightingFireFireWaterWaterWater-FightingPsychicPsychicPsychicPsychicFightingFightingFightingGrass-PoisonGrass-PoisonGrass-PoisonWater-PoisonWater-PoisonRock-GroundRock-GroundRock-GroundFireFireWater-PsychicWater-PsychicWater-PsychicElectric-SteelElectric-SteelNormal-FlyingNormal-FlyingNormal-FlyingWaterWater-IcePoisonPoisonWaterWater-IceGhost-PoisonGhost-PoisonGhost-PoisonGhost-PoisonRock-GroundPsychicPsychicWaterWaterElectricElectricGrass-PsychicGrass-PsychicGroundGroundFightingFightingNormalPoisonPoisonGround-RockGround-RockNormalGrassNormalNormalWaterWaterWaterWaterWaterWater-PsychicPsychic-FairyBug-FlyingIce-PsychicElectricFireBugBug-FlyingNormalWaterWater-FlyingWater-DarkWater-IceNormalNormalWaterElectricFireNormalRock-WaterRock-WaterRock-WaterRock-WaterRock-FlyingRock-FlyingNormalIce-FlyingElectric-FlyingFire-FlyingDragonDragonDragon-FlyingPsychicPsychic-FightingPsychicPsychicGrassGrassGrassFireFireFireWaterWaterWaterNormalNormalNormal-FlyingNormal-FlyingBug-FlyingBug-FlyingBug-PoisonBug-PoisonPoison-FlyingWater-ElectricWater-ElectricElectricFairyNormal-FairyFairyFairy-FlyingPsychic-FlyingPsychic-FlyingElectricElectricElectricElectric-DragonGrassWater-FairyWater-FairyRockWaterGrass-FlyingGrass-FlyingGrass-FlyingNormalGrassGrassBug-FlyingWater-GroundWater-GroundPsychicDarkDark-FlyingWater-PsychicGhostPsychicPsychicNormal-PsychicBugBug-SteelNormalGround-FlyingSteel-GroundSteel-GroundFairyFairyWater-PoisonBug-SteelBug-SteelBug-RockBug-FightingBug-FightingDark-IceNormalNormalFireFire-RockIce-GroundIce-GroundWater-RockWaterWaterIce-FlyingWater-FlyingSteel-FlyingDark-FireDark-FireDark-FireWater-DragonGroundGroundNormalNormalNormalFightingFightingIce-PsychicElectricFireNormalNormalElectricFireWaterRock-GroundRock-GroundRock-DarkRock-DarkPsychic-FlyingFire-FlyingPsychic-GrassGrassGrassGrassGrass-DragonFireFire-FightingFire-FightingFire-FightingWaterWater-GroundWater-GroundWater-GroundDarkDarkNormalNormalBugBugBug-FlyingBugBug-PoisonWater-GrassWater-GrassWater-GrassGrassGrass-DarkGrass-DarkNormal-FlyingNormal-FlyingWater-FlyingWater-FlyingPsychic-FairyPsychic-FairyPsychic-FairyPsychic-FairyBug-WaterBug-FlyingGrassGrass-FightingNormalNormalNormalBug-GroundBug-FlyingBug-GhostNormalNormalNormalFightingFightingNormal-FairyRockNormalNormalDark-GhostDark-GhostSteel-FairySteel-FairySteel-RockSteel-RockSteel-RockSteelFighting-PsychicFighting-PsychicFighting-PsychicElectricElectricElectricElectricElectricBugBugGrass-PoisonPoisonPoisonWater-DarkWater-DarkWater-DarkWaterWaterFire-GroundFire-GroundFire-GroundFirePsychicPsychicNormalGroundGround-DragonGround-DragonGrassGrass-DarkNormal-FlyingDragon-FlyingDragon-FairyNormalPoisonRock-PsychicRock-PsychicWater-GroundWater-GroundWaterWater-DarkGround-PsychicGround-PsychicRock-GrassRock-GrassRock-BugRock-BugWaterWaterNormalNormalGhostGhostGhostGhostGhostGrass-FlyingPsychicDarkDarkPsychicIceIceIceIce-WaterIce-WaterIce-WaterWaterWaterWaterWater-RockWaterDragonDragonDragon-FlyingDragon-FlyingSteel-PsychicSteel-PsychicSteel-PsychicSteel-PsychicRockIceSteelDragon-PsychicDragon-PsychicDragon-PsychicDragon-PsychicWaterWaterGroundGround-FireDragon-FlyingDragon-FlyingSteel-PsychicPsychicPsychicPsychicPsychicGrassGrassGrass-GroundFireFire-FightingFire-FightingWaterWaterWater-SteelNormal-FlyingNormal-FlyingNormal-FlyingNormalNormal-WaterBugBugElectricElectricElectricGrass-PoisonGrass-PoisonRockRockRock-SteelRock-SteelBugBug-GrassBug-GroundBug-SteelBug-FlyingBug-FlyingBug-FlyingElectricWaterWaterGrassGrassWaterWater-GroundNormalGhost-FlyingGhost-FlyingNormalNormalNormal-FightingGhostDark-FlyingNormalNormalPsychicPoison-DarkPoison-DarkSteel-PsychicSteel-PsychicRockPsychic-FairyNormalNormal-FlyingGhost-DarkDragon-GroundDragon-GroundDragon-GroundDragon-GroundNormalFightingFighting-SteelFighting-SteelGroundGroundPoison-BugPoison-DarkPoison-FightingPoison-FightingGrassWaterWaterWater-FlyingGrass-IceGrass-IceGrass-IceDark-IceElectric-SteelNormalGround-RockGrassElectricFireFairy-FlyingBug-FlyingGrassIceGround-FlyingIce-GroundNormalPsychic-FightingPsychic-FightingRock-SteelGhostIce-GhostElectric-GhostElectric-FireElectric-WaterElectric-IceElectric-FlyingElectric-GrassPsychicPsychicPsychicSteel-DragonWater-DragonFire-SteelNormalGhost-DragonGhost-DragonPsychicWaterWaterDarkGrassGrass-FlyingNormalPsychic-FireGrassGrassGrassFireFire-FightingFire-FightingWaterWaterWaterNormalNormalNormalNormalNormalDarkDarkGrassGrassFireFireWaterWaterPsychicPsychicNormal-FlyingNormal-FlyingNormal-FlyingElectricElectricRockRockRockPsychic-FlyingPsychic-FlyingGroundGround-SteelNormalNormal-FairyFightingFightingFightingWaterWater-GroundWater-GroundFightingFightingBug-GrassBug-GrassBug-GrassBug-PoisonBug-PoisonBug-PoisonGrass-FairyGrass-FairyGrassGrassWaterGround-DarkGround-DarkGround-DarkFireFireFire-PsychicGrassBug-RockBug-RockDark-FightingDark-FightingPsychic-FlyingGhostGhostWater-RockWater-RockRock-FlyingRock-FlyingPoisonPoisonDarkDarkNormalNormalPsychicPsychicPsychicPsychicPsychicPsychicWater-FlyingWater-FlyingIceIceIceNormal-GrassNormal-GrassElectric-FlyingBugBug-SteelGrass-PoisonGrass-PoisonWater-GhostWater-GhostWaterBug-ElectricBug-ElectricGrass-SteelGrass-SteelSteelSteelSteelElectricElectricElectricPsychicPsychicGhost-FireGhost-FireGhost-FireDragonDragonDragonIceIceIceBugBugGround-ElectricFightingFightingDragonGround-GhostGround-GhostDark-SteelDark-SteelNormalNormal-FlyingNormal-FlyingDark-FlyingDark-FlyingFireBug-SteelDark-DragonDark-DragonDark-DragonBug-FireBug-FireSteel-FightingRock-FightingGrass-FightingFlyingFlyingElectric-FlyingElectric-FlyingDragon-FireDragon-ElectricGround-FlyingGround-FlyingDragon-IceDragon-IceDragon-IceWater-FightingWater-FightingNormal-PsychicNormal-FightingBug-SteelGrassGrassGrass-FightingFireFireFire-PsychicWaterWaterWater-DarkNormalNormal-GroundNormal-FlyingFire-FlyingFire-FlyingBugBugBug-FlyingFire-NormalFire-NormalFairyFairyFairyGrassGrassFightingFighting-DarkNormalPsychicPsychicPsychicSteel-GhostSteel-GhostSteel-GhostSteel-GhostFairyFairyFairyFairyDark-PsychicDark-PsychicRock-WaterRock-WaterPoison-WaterPoison-DragonWaterWaterElectric-NormalElectric-NormalRock-DragonRock-DragonRock-IceRock-IceFairyFighting-FlyingElectric-FairyRock-FairyDragonDragonDragonSteel-FairyGhost-GrassGhost-GrassGhost-GrassGhost-GrassGhost-GrassGhost-GrassGhost-GrassGhost-GrassGhost-GrassGhost-GrassIceIceFlying-DragonFlying-DragonFairyDark-FlyingDragon-GroundRock-FairyRock-FairyPsychic-GhostPsychic-DarkFire-Water to numeric"
     ]
    }
   ],
   "source": [
    "mean = pokemon_df['Combo Type'].mean()\n",
    "print(mean)"
   ]
  },
  {
   "cell_type": "code",
   "execution_count": null,
   "metadata": {},
   "outputs": [],
   "source": []
  }
 ],
 "metadata": {
  "kernelspec": {
   "display_name": "Python 3 (ipykernel)",
   "language": "python",
   "name": "python3"
  },
  "language_info": {
   "codemirror_mode": {
    "name": "ipython",
    "version": 3
   },
   "file_extension": ".py",
   "mimetype": "text/x-python",
   "name": "python",
   "nbconvert_exporter": "python",
   "pygments_lexer": "ipython3",
   "version": "3.10.13"
  }
 },
 "nbformat": 4,
 "nbformat_minor": 2
}
