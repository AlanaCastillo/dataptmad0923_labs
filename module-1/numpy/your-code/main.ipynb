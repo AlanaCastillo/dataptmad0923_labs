{
 "cells": [
  {
   "cell_type": "markdown",
   "metadata": {},
   "source": [
    "# Introduction to NumPy\n",
    "\n",
    "\n",
    "#### 1. Import NumPy under the name np."
   ]
  },
  {
   "cell_type": "code",
   "execution_count": 4,
   "metadata": {},
   "outputs": [],
   "source": [
    "import numpy as np"
   ]
  },
  {
   "cell_type": "markdown",
   "metadata": {},
   "source": [
    "#### 2. Print your NumPy version."
   ]
  },
  {
   "cell_type": "code",
   "execution_count": 5,
   "metadata": {},
   "outputs": [
    {
     "name": "stdout",
     "output_type": "stream",
     "text": [
      "1.25.2\n"
     ]
    }
   ],
   "source": [
    "print(np.__version__)"
   ]
  },
  {
   "cell_type": "markdown",
   "metadata": {},
   "source": [
    "#### 3. Generate a 2x3x5 3-dimensional array with random values. Assign the array to variable *a*.\n",
    "**Challenge**: there are at least three easy ways that use numpy to generate random arrays. How many ways can you find?"
   ]
  },
  {
   "cell_type": "code",
   "execution_count": 6,
   "metadata": {},
   "outputs": [
    {
     "data": {
      "text/plain": [
       "array([[[0.05899936, 0.09913062, 0.15788645, 0.22975486, 0.32204248],\n",
       "        [0.2810157 , 0.2237204 , 0.68829334, 0.33544152, 0.65043401],\n",
       "        [0.09695066, 0.3799419 , 0.04597534, 0.21929348, 0.7677393 ]],\n",
       "\n",
       "       [[0.16899912, 0.8527258 , 0.11808509, 0.76909927, 0.043724  ],\n",
       "        [0.25023212, 0.62562286, 0.04990047, 0.32684027, 0.69292535],\n",
       "        [0.80750911, 0.24222677, 0.59510274, 0.30490269, 0.60400331]]])"
      ]
     },
     "execution_count": 6,
     "metadata": {},
     "output_type": "execute_result"
    }
   ],
   "source": [
    "a = np.random.random((2, 3, 5))\n",
    "a"
   ]
  },
  {
   "cell_type": "code",
   "execution_count": 7,
   "metadata": {},
   "outputs": [
    {
     "name": "stdout",
     "output_type": "stream",
     "text": [
      "[[[0.10686023 0.50268322 0.4350564  0.49151762 0.9521009 ]\n",
      "  [0.55187407 0.61232239 0.2979599  0.93107362 0.09265867]\n",
      "  [0.09057964 0.78804179 0.45608445 0.63274852 0.53906631]]\n",
      "\n",
      " [[0.53868948 0.62255829 0.18408845 0.92037535 0.1873745 ]\n",
      "  [0.27236141 0.93636028 0.30724177 0.06525317 0.27944174]\n",
      "  [0.01837039 0.29364538 0.55022907 0.45386937 0.44666834]]]\n"
     ]
    }
   ],
   "source": [
    "a = np.random.rand(2,3,5)\n",
    "print(a)"
   ]
  },
  {
   "cell_type": "code",
   "execution_count": 8,
   "metadata": {},
   "outputs": [
    {
     "data": {
      "text/plain": [
       "array([[[ 3, 18,  4,  2, 15],\n",
       "        [24, 28, 25, 21, 15],\n",
       "        [ 6, 16,  3, 16,  8]],\n",
       "\n",
       "       [[17,  8,  3, 15, 21],\n",
       "        [11, 28,  4, 20,  0],\n",
       "        [10, 13, 21,  6, 15]]])"
      ]
     },
     "execution_count": 8,
     "metadata": {},
     "output_type": "execute_result"
    }
   ],
   "source": [
    "a = np.random.randint(30, size = (2,3,5))\n",
    "a"
   ]
  },
  {
   "cell_type": "markdown",
   "metadata": {},
   "source": [
    "#### 4. Print *a*.\n"
   ]
  },
  {
   "cell_type": "code",
   "execution_count": 9,
   "metadata": {},
   "outputs": [
    {
     "name": "stdout",
     "output_type": "stream",
     "text": [
      "[[[ 3 18  4  2 15]\n",
      "  [24 28 25 21 15]\n",
      "  [ 6 16  3 16  8]]\n",
      "\n",
      " [[17  8  3 15 21]\n",
      "  [11 28  4 20  0]\n",
      "  [10 13 21  6 15]]]\n"
     ]
    }
   ],
   "source": [
    "print(a)"
   ]
  },
  {
   "cell_type": "markdown",
   "metadata": {},
   "source": [
    "#### 5. Create a 5x2x3 3-dimensional array with all values equaling 1. Assign the array to variable *b*."
   ]
  },
  {
   "cell_type": "code",
   "execution_count": 10,
   "metadata": {},
   "outputs": [],
   "source": [
    "b = np.ones((5, 2, 3))"
   ]
  },
  {
   "cell_type": "markdown",
   "metadata": {},
   "source": [
    "#### 6. Print *b*.\n"
   ]
  },
  {
   "cell_type": "code",
   "execution_count": 11,
   "metadata": {},
   "outputs": [
    {
     "name": "stdout",
     "output_type": "stream",
     "text": [
      "[[[1. 1. 1.]\n",
      "  [1. 1. 1.]]\n",
      "\n",
      " [[1. 1. 1.]\n",
      "  [1. 1. 1.]]\n",
      "\n",
      " [[1. 1. 1.]\n",
      "  [1. 1. 1.]]\n",
      "\n",
      " [[1. 1. 1.]\n",
      "  [1. 1. 1.]]\n",
      "\n",
      " [[1. 1. 1.]\n",
      "  [1. 1. 1.]]]\n"
     ]
    }
   ],
   "source": [
    "print(b)"
   ]
  },
  {
   "cell_type": "markdown",
   "metadata": {},
   "source": [
    "#### 7. Do *a* and *b* have the same size? How do you prove that in Python code?"
   ]
  },
  {
   "cell_type": "code",
   "execution_count": 12,
   "metadata": {},
   "outputs": [
    {
     "data": {
      "text/plain": [
       "True"
      ]
     },
     "execution_count": 12,
     "metadata": {},
     "output_type": "execute_result"
    }
   ],
   "source": [
    "a.size\n",
    "b.size\n",
    "\n",
    "a.size == b.size"
   ]
  },
  {
   "cell_type": "markdown",
   "metadata": {},
   "source": [
    "#### 8. Are you able to add *a* and *b*? Why or why not?\n"
   ]
  },
  {
   "cell_type": "code",
   "execution_count": 13,
   "metadata": {},
   "outputs": [],
   "source": [
    "#No,because they have different shape"
   ]
  },
  {
   "cell_type": "code",
   "execution_count": 14,
   "metadata": {},
   "outputs": [
    {
     "ename": "ValueError",
     "evalue": "operands could not be broadcast together with shapes (2,3,5) (5,2,3) ",
     "output_type": "error",
     "traceback": [
      "\u001b[1;31m---------------------------------------------------------------------------\u001b[0m",
      "\u001b[1;31mValueError\u001b[0m                                Traceback (most recent call last)",
      "Cell \u001b[1;32mIn[14], line 1\u001b[0m\n\u001b[1;32m----> 1\u001b[0m \u001b[38;5;28mprint\u001b[39m(\u001b[43mnp\u001b[49m\u001b[38;5;241;43m.\u001b[39;49m\u001b[43madd\u001b[49m\u001b[43m(\u001b[49m\u001b[43ma\u001b[49m\u001b[43m,\u001b[49m\u001b[43m \u001b[49m\u001b[43mb\u001b[49m\u001b[43m)\u001b[49m)\n",
      "\u001b[1;31mValueError\u001b[0m: operands could not be broadcast together with shapes (2,3,5) (5,2,3) "
     ]
    }
   ],
   "source": [
    "print(np.add(a, b))"
   ]
  },
  {
   "cell_type": "markdown",
   "metadata": {},
   "source": [
    "#### 9. Transpose *b* so that it has the same structure of *a* (i.e. become a 2x3x5 array). Assign the transposed array to variable *c*."
   ]
  },
  {
   "cell_type": "code",
   "execution_count": 17,
   "metadata": {},
   "outputs": [
    {
     "name": "stdout",
     "output_type": "stream",
     "text": [
      "[[[1. 1. 1. 1. 1.]\n",
      "  [1. 1. 1. 1. 1.]\n",
      "  [1. 1. 1. 1. 1.]]\n",
      "\n",
      " [[1. 1. 1. 1. 1.]\n",
      "  [1. 1. 1. 1. 1.]\n",
      "  [1. 1. 1. 1. 1.]]]\n"
     ]
    }
   ],
   "source": [
    "c = b.transpose(1,2,0)\n",
    "print(c)"
   ]
  },
  {
   "cell_type": "markdown",
   "metadata": {},
   "source": [
    "#### 10. Try to add *a* and *c*. Now it should work. Assign the sum to variable *d*. But why does it work now?"
   ]
  },
  {
   "cell_type": "code",
   "execution_count": 20,
   "metadata": {},
   "outputs": [
    {
     "data": {
      "text/plain": [
       "True"
      ]
     },
     "execution_count": 20,
     "metadata": {},
     "output_type": "execute_result"
    }
   ],
   "source": [
    "a.size\n",
    "c.size\n",
    "\n",
    "a.size == c.size"
   ]
  },
  {
   "cell_type": "code",
   "execution_count": 21,
   "metadata": {},
   "outputs": [
    {
     "name": "stdout",
     "output_type": "stream",
     "text": [
      "(2, 3, 5)\n",
      "(2, 3, 5)\n"
     ]
    }
   ],
   "source": [
    "d = np.add (a,c)\n",
    "\n",
    "print(a.shape)\n",
    "print(c.shape)"
   ]
  },
  {
   "cell_type": "markdown",
   "metadata": {},
   "source": [
    "#### 11. Print *a* and *d*. Notice the difference and relation of the two array in terms of the values? Explain."
   ]
  },
  {
   "cell_type": "code",
   "execution_count": 23,
   "metadata": {},
   "outputs": [
    {
     "name": "stdout",
     "output_type": "stream",
     "text": [
      "[[[0.67115411 0.70859404 0.60598366 0.16334714 0.37500876]\n",
      "  [0.6976195  0.12495364 0.09545954 0.41396679 0.22788391]\n",
      "  [0.65301325 0.93632346 0.74607955 0.58075709 0.72159253]]\n",
      "\n",
      " [[0.57091117 0.45999348 0.79346754 0.59005506 0.5577968 ]\n",
      "  [0.20823787 0.09337792 0.6761003  0.51506251 0.82107136]\n",
      "  [0.97909629 0.10567169 0.99459229 0.43331748 0.15918543]]]\n"
     ]
    }
   ],
   "source": [
    "print(a)\n"
   ]
  },
  {
   "cell_type": "code",
   "execution_count": 25,
   "metadata": {},
   "outputs": [
    {
     "name": "stdout",
     "output_type": "stream",
     "text": [
      "[[[1.67115411 1.70859404 1.60598366 1.16334714 1.37500876]\n",
      "  [1.6976195  1.12495364 1.09545954 1.41396679 1.22788391]\n",
      "  [1.65301325 1.93632346 1.74607955 1.58075709 1.72159253]]\n",
      "\n",
      " [[1.57091117 1.45999348 1.79346754 1.59005506 1.5577968 ]\n",
      "  [1.20823787 1.09337792 1.6761003  1.51506251 1.82107136]\n",
      "  [1.97909629 1.10567169 1.99459229 1.43331748 1.15918543]]]\n"
     ]
    }
   ],
   "source": [
    "print(d)"
   ]
  },
  {
   "cell_type": "code",
   "execution_count": 27,
   "metadata": {},
   "outputs": [
    {
     "name": "stdout",
     "output_type": "stream",
     "text": [
      "[[[2.34230822 2.41718807 2.21196732 1.32669428 1.75001752]\n",
      "  [2.39523901 1.24990728 1.19091909 1.82793359 1.45576782]\n",
      "  [2.30602649 2.87264692 2.4921591  2.16151417 2.44318506]]\n",
      "\n",
      " [[2.14182234 1.91998696 2.58693507 2.18011012 2.1155936 ]\n",
      "  [1.41647575 1.18675585 2.3522006  2.03012502 2.64214272]\n",
      "  [2.95819258 1.21134338 2.98918459 1.86663497 1.31837086]]]\n"
     ]
    }
   ],
   "source": [
    "print(np.add(a, d))"
   ]
  },
  {
   "cell_type": "code",
   "execution_count": null,
   "metadata": {},
   "outputs": [],
   "source": [
    "#In d the values have 1 and in a they are only decimals"
   ]
  },
  {
   "cell_type": "markdown",
   "metadata": {},
   "source": [
    "#### 12. Multiply *a* and *c*. Assign the result to *e*."
   ]
  },
  {
   "cell_type": "code",
   "execution_count": 28,
   "metadata": {},
   "outputs": [
    {
     "name": "stdout",
     "output_type": "stream",
     "text": [
      "[[[0.67115411 0.70859404 0.60598366 0.16334714 0.37500876]\n",
      "  [0.6976195  0.12495364 0.09545954 0.41396679 0.22788391]\n",
      "  [0.65301325 0.93632346 0.74607955 0.58075709 0.72159253]]\n",
      "\n",
      " [[0.57091117 0.45999348 0.79346754 0.59005506 0.5577968 ]\n",
      "  [0.20823787 0.09337792 0.6761003  0.51506251 0.82107136]\n",
      "  [0.97909629 0.10567169 0.99459229 0.43331748 0.15918543]]]\n"
     ]
    }
   ],
   "source": [
    "e = np.multiply(a,c)\n",
    "print(e)"
   ]
  },
  {
   "cell_type": "code",
   "execution_count": 29,
   "metadata": {},
   "outputs": [
    {
     "name": "stdout",
     "output_type": "stream",
     "text": [
      "[[[0.67115411 0.70859404 0.60598366 0.16334714 0.37500876]\n",
      "  [0.6976195  0.12495364 0.09545954 0.41396679 0.22788391]\n",
      "  [0.65301325 0.93632346 0.74607955 0.58075709 0.72159253]]\n",
      "\n",
      " [[0.57091117 0.45999348 0.79346754 0.59005506 0.5577968 ]\n",
      "  [0.20823787 0.09337792 0.6761003  0.51506251 0.82107136]\n",
      "  [0.97909629 0.10567169 0.99459229 0.43331748 0.15918543]]]\n"
     ]
    }
   ],
   "source": [
    "print(a)"
   ]
  },
  {
   "cell_type": "markdown",
   "metadata": {},
   "source": [
    "#### 13. Does *e* equal to *a*? Why or why not?\n"
   ]
  },
  {
   "cell_type": "code",
   "execution_count": null,
   "metadata": {},
   "outputs": [],
   "source": [
    "#Yes, are equal, both have the same size and shape"
   ]
  },
  {
   "cell_type": "markdown",
   "metadata": {},
   "source": [
    "#### 14. Identify the max, min, and mean values in *d*. Assign those values to variables *d_max*, *d_min* and *d_mean*."
   ]
  },
  {
   "cell_type": "code",
   "execution_count": 30,
   "metadata": {},
   "outputs": [
    {
     "name": "stdout",
     "output_type": "stream",
     "text": [
      "1.9945922927951418\n"
     ]
    }
   ],
   "source": [
    "d_max = d.max()\n",
    "print (d_max)\n"
   ]
  },
  {
   "cell_type": "code",
   "execution_count": 31,
   "metadata": {},
   "outputs": [
    {
     "name": "stdout",
     "output_type": "stream",
     "text": [
      "1.0933779229830507\n"
     ]
    }
   ],
   "source": [
    "d_min = d.min()\n",
    "print (d_min)"
   ]
  },
  {
   "cell_type": "code",
   "execution_count": 32,
   "metadata": {},
   "outputs": [
    {
     "name": "stdout",
     "output_type": "stream",
     "text": [
      "1.522655805586087\n"
     ]
    }
   ],
   "source": [
    "d_mean = d.mean()\n",
    "print (d_mean)"
   ]
  },
  {
   "cell_type": "markdown",
   "metadata": {},
   "source": [
    "#### 15. Now we want to label the values in *d*. First create an empty array *f* with the same shape (i.e. 2x3x5) as *d* using `np.empty`.\n"
   ]
  },
  {
   "cell_type": "code",
   "execution_count": 33,
   "metadata": {},
   "outputs": [
    {
     "data": {
      "text/plain": [
       "array([[[0.67115411, 0.70859404, 0.60598366, 0.16334714, 0.37500876],\n",
       "        [0.6976195 , 0.12495364, 0.09545954, 0.41396679, 0.22788391],\n",
       "        [0.65301325, 0.93632346, 0.74607955, 0.58075709, 0.72159253]],\n",
       "\n",
       "       [[0.57091117, 0.45999348, 0.79346754, 0.59005506, 0.5577968 ],\n",
       "        [0.20823787, 0.09337792, 0.6761003 , 0.51506251, 0.82107136],\n",
       "        [0.97909629, 0.10567169, 0.99459229, 0.43331748, 0.15918543]]])"
      ]
     },
     "execution_count": 33,
     "metadata": {},
     "output_type": "execute_result"
    }
   ],
   "source": [
    "f = np.empty((2,3,5))\n",
    "f"
   ]
  },
  {
   "cell_type": "markdown",
   "metadata": {},
   "source": [
    "#### 16. Populate the values in *f*. \n",
    "\n",
    "For each value in *d*, if it's larger than *d_min* but smaller than *d_mean*, assign 25 to the corresponding value in *f*. If a value in *d* is larger than *d_mean* but smaller than *d_max*, assign 75 to the corresponding value in *f*. If a value equals to *d_mean*, assign 50 to the corresponding value in *f*. Assign 0 to the corresponding value(s) in *f* for *d_min* in *d*. Assign 100 to the corresponding value(s) in *f* for *d_max* in *d*. In the end, f should have only the following values: 0, 25, 50, 75, and 100.\n",
    "\n",
    "**Note**: you don't have to use Numpy in this question."
   ]
  },
  {
   "cell_type": "code",
   "execution_count": 42,
   "metadata": {},
   "outputs": [
    {
     "data": {
      "text/plain": [
       "array([[[ 75.,  75.,  75.,  25.,  25.],\n",
       "        [ 75.,  25.,  25.,  25.,  25.],\n",
       "        [ 75.,  75.,  75.,  75.,  75.]],\n",
       "\n",
       "       [[ 75.,  25.,  75.,  75.,  75.],\n",
       "        [ 25.,   0.,  75.,  25.,  75.],\n",
       "        [ 75.,  25., 100.,  25.,  25.]]])"
      ]
     },
     "execution_count": 42,
     "metadata": {},
     "output_type": "execute_result"
    }
   ],
   "source": [
    "d_mean = np.mean(d)\n",
    "d_min = np.min(d)\n",
    "d_max = np.max(d)\n",
    "\n",
    "f = np.zeros_like(d)\n",
    "f[(d > d_min) & (d < d_mean)] = 25\n",
    "f[(d > d_mean) & (d < d_max)] = 75\n",
    "f[d == d_mean] = 50\n",
    "f[d == d_min] = 0\n",
    "f[d == d_max] = 100\n",
    "f\n"
   ]
  },
  {
   "cell_type": "markdown",
   "metadata": {},
   "source": [
    "#### 17. Print *d* and *f*. Do you have your expected *f*?\n",
    "For instance, if your *d* is:\n",
    "```python\n",
    "[[[1.85836099, 1.67064465, 1.62576044, 1.40243961, 1.88454931],\n",
    "[1.75354326, 1.69403643, 1.36729252, 1.61415071, 1.12104981],\n",
    "[1.72201435, 1.1862918 , 1.87078449, 1.7726778 , 1.88180042]],\n",
    "[[1.44747908, 1.31673383, 1.02000951, 1.52218947, 1.97066381],\n",
    "[1.79129243, 1.74983003, 1.96028037, 1.85166831, 1.65450881],\n",
    "[1.18068344, 1.9587381 , 1.00656599, 1.93402165, 1.73514584]]]\n",
    "```\n",
    "Your *f* should be:\n",
    "```python\n",
    "[[[ 75.,  75.,  75.,  25.,  75.],\n",
    "[ 75.,  75.,  25.,  25.,  25.],\n",
    "[ 75.,  25.,  75.,  75.,  75.]],\n",
    "[[ 25.,  25.,  25.,  25., 100.],\n",
    "[ 75.,  75.,  75.,  75.,  75.],\n",
    "[ 25.,  75.,   0.,  75.,  75.]]]\n",
    "```"
   ]
  },
  {
   "cell_type": "code",
   "execution_count": 43,
   "metadata": {},
   "outputs": [
    {
     "name": "stdout",
     "output_type": "stream",
     "text": [
      "[[[1.67115411 1.70859404 1.60598366 1.16334714 1.37500876]\n",
      "  [1.6976195  1.12495364 1.09545954 1.41396679 1.22788391]\n",
      "  [1.65301325 1.93632346 1.74607955 1.58075709 1.72159253]]\n",
      "\n",
      " [[1.57091117 1.45999348 1.79346754 1.59005506 1.5577968 ]\n",
      "  [1.20823787 1.09337792 1.6761003  1.51506251 1.82107136]\n",
      "  [1.97909629 1.10567169 1.99459229 1.43331748 1.15918543]]]\n"
     ]
    }
   ],
   "source": [
    "print(d)"
   ]
  },
  {
   "cell_type": "markdown",
   "metadata": {},
   "source": [
    "#### 18. Bonus question: instead of using numbers (i.e. 0, 25, 50, 75, and 100), use string values  (\"A\", \"B\", \"C\", \"D\", and \"E\") to label the array elements. For the example above, the expected result is:\n",
    "\n",
    "```python\n",
    "[[[ 'D',  'D',  'D',  'B',  'D'],\n",
    "[ 'D',  'D',  'B',  'B',  'B'],\n",
    "[ 'D',  'B',  'D',  'D',  'D']],\n",
    "[[ 'B',  'B',  'B',  'B',  'E'],\n",
    "[ 'D',  'D',  'D',  'D',  'D'],\n",
    "[ 'B',  'D',   'A',  'D', 'D']]]\n",
    "```\n",
    "**Note**: you don't have to use Numpy in this question."
   ]
  },
  {
   "cell_type": "code",
   "execution_count": 49,
   "metadata": {},
   "outputs": [
    {
     "name": "stdout",
     "output_type": "stream",
     "text": [
      "[[['D' 'D' 'D' 'B' 'B']\n",
      "  ['D' 'B' 'B' 'B' 'B']\n",
      "  ['D' 'D' 'D' 'D' 'D']]\n",
      "\n",
      " [['D' 'B' 'D' 'D' 'D']\n",
      "  ['B' 'A' 'D' 'B' 'D']\n",
      "  ['D' 'B' 'E' 'B' 'B']]]\n"
     ]
    }
   ],
   "source": [
    "g = np.empty_like(d, dtype=str)\n",
    "\n",
    "# Assign string labels to 'f' based on conditions\n",
    "g[(d > d_min) & (d < d_mean)] = 'B'\n",
    "g[(d > d_mean) & (d < d_max)] = 'D'\n",
    "g[d == d_mean] = 'C'\n",
    "g[d == d_min] = 'A'\n",
    "g[d == d_max] = 'E'\n",
    "unique_labels_in_g = np.unique(g)\n",
    "g_reshaped = g.reshape(2, 3, 5)\n",
    "\n",
    "print(g_reshaped)"
   ]
  },
  {
   "cell_type": "code",
   "execution_count": null,
   "metadata": {},
   "outputs": [],
   "source": []
  }
 ],
 "metadata": {
  "kernelspec": {
   "display_name": "Python 3 (ipykernel)",
   "language": "python",
   "name": "python3"
  },
  "language_info": {
   "codemirror_mode": {
    "name": "ipython",
    "version": 3
   },
   "file_extension": ".py",
   "mimetype": "text/x-python",
   "name": "python",
   "nbconvert_exporter": "python",
   "pygments_lexer": "ipython3",
   "version": "3.10.13"
  }
 },
 "nbformat": 4,
 "nbformat_minor": 2
}
